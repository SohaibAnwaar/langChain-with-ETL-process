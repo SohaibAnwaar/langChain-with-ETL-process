{
 "cells": [
  {
   "cell_type": "code",
   "execution_count": 17,
   "metadata": {},
   "outputs": [
    {
     "data": {
      "text/plain": [
       "True"
      ]
     },
     "execution_count": 17,
     "metadata": {},
     "output_type": "execute_result"
    }
   ],
   "source": [
    "from dotenv import load_dotenv\n",
    "from langchain_core.messages import SystemMessage\n",
    "from langchain_core.messages import HumanMessage\n",
    "from langgraph.prebuilt import create_react_agent\n",
    "from langgraph.checkpoint.sqlite import SqliteSaver\n",
    "from langchain_community.utilities import SQLDatabase\n",
    "from langchain_community.agent_toolkits import SQLDatabaseToolkit\n",
    "from langchain_openai import ChatOpenAI\n",
    "\n",
    "load_dotenv()"
   ]
  },
  {
   "cell_type": "markdown",
   "metadata": {},
   "source": [
    "## cell to check db connection with llm"
   ]
  },
  {
   "cell_type": "code",
   "execution_count": 18,
   "metadata": {},
   "outputs": [
    {
     "name": "stdout",
     "output_type": "stream",
     "text": [
      "sqlite\n",
      "['advisors', 'brokercheck_data', 'linkedin_profiles']\n"
     ]
    },
    {
     "data": {
      "text/plain": [
       "\"[(1, 1000034, None, 'Stephen', 'Wendell', 'Bryars', None, None, 'Mml Investors Services, Llc', '10409', '7.077', '2017-03-25', 'Mml Investors Services, Llc', '10409', '7.077', '2017-03-25', '3 West Garden Street Suite 510', 'Pensacola', 'FL', '32502', 'Pensacola-Ferry Pass-Brent, FL', 'SIE,Series 22,Series 6,Series 63,Series 65', 'Investment Advisor Representative', None, None, None, None, 'sbryars@bryarsfinancialgroup.com', None, None, None, 'https://strategicfinancialpartners.com/our-team/stephenbryars', 43, None, 'Msi Financial Services, Inc.: 01/02/2015 - 03/25/2017, New England Securities: 08/10/1981 - 01/02/2015', 'Msi Financial Services, Inc.: 01/02/2015 - 03/25/2017, New England Securities: 08/10/1981 - 01/02/2015', 'male', 1092980425364, None, None, None, None, None, None, None, None, None, None, None, 'eMoney,SEI Investments,Black Diamond,Assetmark,Brinker Capital,Envestnet', 'Nitrogen (Riskalyze),Smarsh,Carta,Broadridge,Factset,DocuSign,SmartAsset,FMG Suite,Calendly,RightCapital,FI 360,Ned Davis Research,Morningstar,Zacks,advisorwebsites.com,Allbridge,Constant Contact,Fee Only Network,MailChimp,MSCI,S&P Global,Trust & Will', 'Financial Planning,Estate Planning,Tax Planning,Portfolio Construction,Asset Management,Insurance,Investment Planning,Life Insurance,Retirement Plans,529 Plans,College Planning,Divorce Planning,Senior Care', 'Alternative Investments', 'Pershing,TD Ameritrade,Charles Schwab,Fidelity', None, 'Salesforce,Hubspot', None, 'https://app.planprofessional.com/advisor/person/1000034', 'https://adviserinfo.sec.gov/individual/summary/1000034', 'https://brokercheck.finra.org/individual/summary/1000034', 'MML INVESTORS SERVICES, LLC', 'Independent RIA, Broker-Dealer', '1295 State Street', 'Springfield', 'MA', '01111', '(413)737-8400', 72827710537, 351645, 'FIDELITY/NFS', 7130.0, 7011, 7130.0, 'Yes', None, None, None, None, None, None, None, None, None), (2, 1000059, None, 'Douglas', 'Pendleton', 'Gaines', None, None, 'Stifel, Nicolaus & Company, Incorporated', '793', '16.611', '2007-09-14', 'Stifel, Nicolaus & Company, Incorporated', '793', '16.611', '2007-09-14', '10400 Northeast 4th Street, Suite 2000', 'Bellevue', 'WA', '98004', 'Seattle-Tacoma-Bellevue, WA', 'SIE,Series 3,Series 63,Series 66,Series 7,Series 8', 'Financial Advisor', None, '4256373600', 'landline', None, 'gainesd@stifel.com', None, None, None, 'http://www.stifel.com/fa/doug-gaines-crpc', 43, None, 'A. G. Edwards & Sons, Inc.: 07/25/1989 - 09/19/2007, Shearson Lehman Hutton Inc.: 02/15/1988 - 08/21/1989, E. F. Hutton & Company Inc: 08/06/1981 - 02/15/1988', None, 'male', 114476452709, None, None, None, None, None, None, None, None, None, None, None, 'eMoney,Adhesion Wealth,Envestnet', 'Factset,FMG Suite,Zacks,Addepar,Broadridge,Global Relay,Smarsh,DocuSign', 'Asset Management,Tax Planning,Insurance,Wealth Planning,Portfolio Construction,Life Insurance,Retirement Plans,Estate Planning,Charitable Giving,Financial Planning,Investment Planning,College Planning', 'Alternative Investments', 'Pershing,Charles Schwab', None, 'Salesforce', None, 'https://app.planprofessional.com/advisor/person/1000059', 'https://adviserinfo.sec.gov/individual/summary/1000059', 'https://brokercheck.finra.org/individual/summary/1000059', 'STIFEL, NICOLAUS & COMPANY, INCORPORATED', 'Independent RIA, Broker-Dealer', '501 North Broadway', 'St. Louis', 'MO', '63102', '314-342-2000', 149248936163, 348524, 'BARCLAYS,CHARLES SCHWAB & COMPANY,PERSHING,STIFEL', 6534.0, 3271, 5160.0, 'No', None, None, None, None, None, None, None, None, None), (3, 1000072, None, 'James', 'Stephen', 'Myatt', 'James Stephen Myatt, James S Myatt, James S. Myatt, Steve Myatt', None, 'Stifel, Nicolaus & Company, Incorporated', '793', '7.529', '2016-10-11', 'Stifel, Nicolaus & Company, Incorporated', '793', '7.529', '2016-10-11', '1200 West Highway 6 Suite 3', 'Waco', 'TX', '76712', 'Waco, TX', 'SIE,Series 10,Series 4,Series 53,Series 63,Series 65,Series 7,Series 8,Series 9', 'Senior Manager', None, '2543997450', 'landline', None, 'myattj@stifel.com', None, None, None, None, 43, None, 'Wells Fargo Advisors, Llc: 08/21/2008 - 10/12/2016, Ubs Financial Services Inc.: 01/01/1991 - 09/17/2008, Rotan Mosle Inc.: 04/02/1990 - 01/01/1991, Painewebber Incorporated: 03/30/1990 - 04/04/1990, Shearson Lehman Hutton Inc.: 05/14/1988 - 04/18/1990, E. F. Hutton & Company Inc: 07/23/1981 -...', 'Wells Fargo Advisors, Llc: 08/21/2008 - 10/12/2016, Ubs Financial Services Inc.: 01/01/1991 - 09/17/2008, Painewebber Incorporated: 03/30/1990 - 04/04/1990', 'male', 5765251462, None, None, None, None, None, None, None, None, None, None, None, 'eMoney,Adhesion Wealth,Envestnet', 'Factset,FMG Suite,Zacks,Addepar,Broadridge,Global Relay,Smarsh,DocuSign', 'Asset Management,Tax Planning,Insurance,Wealth Planning,Portfolio Construction,Life Insurance,Retirement Plans,Estate Planning,Charitable Giving,Financial Planning,Investment Planning,College Planning', 'Alternative Investments', 'Pershing,Charles Schwab', None, 'Salesforce', None, 'https://app.planprofessional.com/advisor/person/1000072', 'https://adviserinfo.sec.gov/individual/summary/1000072', 'https://brokercheck.finra.org/individual/summary/1000072', 'STIFEL, NICOLAUS & COMPANY, INCORPORATED', 'Independent RIA, Broker-Dealer', '501 North Broadway', 'St. Louis', 'MO', '63102', '314-342-2000', 149248936163, 348524, 'BARCLAYS,CHARLES SCHWAB & COMPANY,PERSHING,STIFEL', 6534.0, 3271, 5160.0, 'No', None, None, None, None, None, None, None, None, None), (4, 1000179, None, 'William', 'John', 'Stropp', 'William John Stropp, William J Stropp, William J. Stropp, Bill Stropp, William Stropp', None, 'First Command Brokerage Services, Inc.', '3641', '15.696', '2008-08-13', 'First Command Advisory Services', '281958', '8.353', '2015-12-15', '510 County Road 466 Suite 207 Office #a', 'Lady Lake', 'FL', '32159', 'Orlando-Kissimmee, FL,The Villages, FL', 'SIE,Series 26,Series 6,Series 63,Series 65,Series 99TO', 'Financial Advisor,General Partner', None, '3526337010', 'landline', 'https://www.linkedin.com/in/billstropp', 'bjstropp@firstcommand.com', None, None, None, None, 41, 72.0, 'First Command Financial Planning, Inc.: 09/16/1981 - 10/10/2006', 'First Command Financial Planning, Inc.: 09/16/1981 - 10/10/2006', 'male', 514221323695, None, None, None, None, None, None, None, None, None, None, None, 'eMoney', 'SmartAsset,Smarsh', 'Financial Planning,Asset Management,Insurance,Life Insurance,Estate Planning,Portfolio Construction,Retirement Plans,Investment Planning,529 Plans', None, 'Pershing,Charles Schwab,Fidelity', None, None, None, 'https://app.planprofessional.com/advisor/person/1000179', 'https://adviserinfo.sec.gov/individual/summary/1000179', 'https://brokercheck.finra.org/individual/summary/1000179', 'FIRST COMMAND ADVISORY SERVICES', 'Independent RIA', '1 Firstcomm Plaza', 'Fort Worth', 'TX', '76109', '817-731-8621', 17481650839, 107959, 'PERSHING', 1625.0, 1050, 1120.0, 'No', None, None, None, None, None, None, None, None, None), (5, 1000231, None, 'George', 'Thomas', 'Damasco Jr', 'George Thomas Damasco Jr, George T Damasco Jr, George T. Damasco Jr, G Thomas Damasco, Thomas George Damasco Jr', None, None, None, None, None, 'Mpm Wealth Advisors', '104926', '27.296', '1997-01-09', '7429 International Drive Suite A', 'Holland', 'OH', '43528', 'Toledo, OH', 'Series 65', 'Investment Advisor,PARTNER,VICE PRESIDENT', None, '8008141706', None, 'https://www.linkedin.com/in/george-t-damasco-b31493b0', 'g.damasco@mpmwealth.com', None, None, None, None, 42, None, 'Eplanning Securities, Inc.: 03/06/2007 - 09/26/2007, Nfp Securities, Inc.: 06/20/2003 - 02/02/2007, Berthel, Fisher & Company Financial Services, Inc.: 04/02/2003 - 08/18/2003, Continental Capital Investment Services, Inc.: 11/27/1995 - 04/08/2003, Smith Barney Inc.: 07/31/1993 - 10/26/1995,...', 'Nfp Securities, Inc.: 06/20/2003 - 02/02/2007, Berthel, Fisher & Company Financial Services, Inc.: 04/02/2003 - 08/18/2003, Smith Barney Inc.: 07/31/1993 - 10/26/1995, Painewebber Incorporated: 01/07/1983 - 10/20/1987, Ids Marketing Corporation: 02/26/1982 - 01/07/1983', 'male', 555127466049, None, None, None, None, None, None, None, None, None, None, None, 'Tamarac,Envestnet', 'Calendly,MailChimp,Smarsh,FMG Suite', 'Asset Management,Insurance,Life Insurance,Financial Planning,Estate Planning,Tax Planning,Business Succession,Charitable Giving,Portfolio Construction,Retirement Plans,529 Plans', None, 'TD Ameritrade,Charles Schwab', None, None, None, 'https://app.planprofessional.com/advisor/person/1000231', 'https://adviserinfo.sec.gov/individual/summary/1000231', None, 'MPM WEALTH ADVISORS', 'Independent RIA', '7429 International Drive Suite A', 'Holland', 'OH', '43528', '419-861-1400', 795032688, 2403, 'CHARLES SCHWAB & COMPANY', 20.0, 15, 1.0, 'No', None, None, None, None, None, None, None, None, None), (6, 1000278, None, 'Thomas', 'Alan', 'Hoffman', 'Thomas Alan Hoffman, Thomas A Hoffman, Thomas A. Hoffman, Thomas A Hoffman, Tom Hoffman', None, 'Purshe Kaplan Sterling Investments', '35747', '6.468', '2017-11-02', 'Rba Wealth Management, Llc', '291029', '4.471', '2019-11-01', '520 Newport Center Drive Suite 740', 'Newport Beach', 'CA', '92660', 'Los Angeles-Long Beach-Santa Ana, CA', 'SIE,Series 3,Series 31,Series 63,Series 66,Series 7', 'Broker', None, '7819173780,9497216100', 'landline,landline', 'https://www.linkedin.com/in/thomas-hoffman-42487773', 'thoffman@rba-wealth.com', None, None, None, None, 43, None, 'Morgan Stanley: 08/27/2010 - 11/06/2017, Lpl Financial Corporation: 12/06/1988 - 09/07/2010, Shearson Lehman Hutton Inc.: 06/09/1987 - 01/01/1989, E. F. Hutton & Company Inc: 07/28/1981 - 06/12/1987', 'Pks Advisory Services, Llc: 11/03/2017 - 01/03/2018, Morgan Stanley: 08/27/2010 - 11/06/2017, Lpl Financial Corporation: 12/06/1988 - 09/07/2010', 'male', 113221985227, None, None, None, None, None, None, None, None, None, None, None, 'Black Diamond,Orion,Envestnet MoneyGuide,Tamarac,eMoney,Envestnet', 'Carta,Broadridge,FMG Suite,Calendly,RightCapital,Zacks,Addepar,advisorwebsites.com,NetXInvestor,Allbridge,S&P Global,Twenty Over Ten', 'Insurance,Life Insurance,Estate Planning,Financial Planning,Retirement Plans,Tax Planning,Portfolio Construction,Business Succession,Charitable Giving,Asset Management,529 Plans,Senior Care', 'Alternative Investments', 'Charles Schwab', None, 'Hubspot', None, 'https://app.planprofessional.com/advisor/person/1000278', 'https://adviserinfo.sec.gov/individual/summary/1000278', 'https://brokercheck.finra.org/individual/summary/1000278', 'RBA WEALTH MANAGEMENT, LLC', 'Independent RIA', '520 Newport Center Drive Suite 740', 'Newport Beach', 'CA', '92660', '949-945-2104', 356087862, 1095, 'CHARLES SCHWAB & COMPANY', 6.0, 2, 5.0, 'Yes', None, None, None, None, None, None, None, None, None), (7, 1000316, None, 'George', None, 'Kuruvilla', 'Kuruvilla George', None, 'Lifemark Securities Corp.', '16204', '4.167', '2020-02-20', 'Virtue Capital Management, Llc', '167816', '3.849', '2020-06-15', None, 'Yonkers', 'NY', None, None, 'SIE,Series 6,Series 63,Series 65,Series 7', None, 'CLU', None, None, None, 'gkuruvilla@lifemark.com', None, None, 'g_kuruvilla@msn.com', None, 42, None, 'Center Street Securities, Inc.: 04/23/2014 - 01/23/2020, Center Street Securities, Inc.: 03/10/2010 - 04/23/2014, Robert W. Baird & Co. Incorporated: 03/01/1985 - 01/01/2002, Northwestern Mutual Investment Services, Llc: 04/30/1982 - 10/14/2009', 'Center Street Advisors, Inc.: 04/17/2015 - 01/23/2020, Brookstone Capital Management Llc: 03/12/2010 - 04/16/2015, Robert W. Baird & Co. Incorporated: 03/01/1985 - 01/01/2002, Northwestern Mutual Investment Services, Llc: 04/30/1982 - 10/14/2009', 'male', 22039384884, None, None, None, None, None, None, None, None, None, None, None, 'Adhesion Wealth,Envestnet MoneyGuide,Orion', 'Broadridge,Calendly,Dropbox,Factset,FMG Suite,RightCapital,advisorwebsites.com', 'Financial Planning,Insurance,Portfolio Construction,Asset Management,Life Insurance,Retirement Plans,Estate Planning,Business Succession,529 Plans', 'Alternative Investments', 'Charles Schwab', None, 'Salesforce', None, 'https://app.planprofessional.com/advisor/person/1000316', 'https://adviserinfo.sec.gov/individual/summary/1000316', 'https://brokercheck.finra.org/individual/summary/1000316', 'VIRTUE CAPITAL MANAGEMENT, LLC', 'Independent RIA', '6 Cadillac Dr. Suite 310', 'Brentwood', 'TN', '37027', '615-340-0801', 787466707, 6111, 'CHARLES SCHWAB & COMPANY,TD AMERITRADE', 110.0, 94, 2.0, 'Yes', None, None, None, None, None, None, None, None, None), (8, 1000334, None, 'Joseph', 'John', 'Kubic', None, None, None, None, None, None, 'Fairlane Investment Advisors Inc', '105624', '13.663', '2010-08-25', '21800 Haggerty Road Suite 112', 'Northville', 'MI', '48167', 'Ann Arbor, MI,Detroit-Warren-Livonia, MI', 'Series 65', 'Vice President', None, '3135933925', 'landline', 'https://www.linkedin.com/in/joekubic', 'jkubic@fiai.com', None, None, None, 'https://www.fiai.com/team/joseph-kubic', 14, 72.0, None, None, 'male', 719371871338, None, 'Married,Kids', 'Golfing', None, None, None, None, 'Wayne State University', None, None, None, 'Orion', 'advisorwebsites.com,Global Relay', 'Financial Planning,Estate Planning,Tax Planning,Insurance,Portfolio Construction,Asset Management,Retirement Plans', 'Alternative Investments', 'Fidelity', None, None, None, 'https://app.planprofessional.com/advisor/person/1000334', 'https://adviserinfo.sec.gov/individual/summary/1000334', None, 'FAIRLANE INVESTMENT ADVISORS INC', 'Independent RIA', '21800 Haggerty Road Suite 112', 'Northville', 'MI', '48167', '313-593-3925', 70897000, 298, 'FIDELITY/NFS', 2.0, 2, 0.0, 'No', None, None, None, None, None, None, None, None, None), (9, 1000420, None, 'Susan', 'Beth', 'Allen', 'Susan Beth Allen, Susan B Allen, Susan B. Allen, Susan Beth Kleibert Allen', None, 'Lpl Financial Llc', '6413', '14.625', '2009-09-08', 'Great Valley Advisor Group, Inc.', '123913', '8.83', '2015-06-24', '780 Newtown Yardley Road #310', 'Newtown', 'PA', '18940', 'Philadelphia-Camden-Wilmington, PA-NJ-DE-MD', 'SIE,Series 24,Series 6,Series 63,Series 7', None, 'CFP,CFP', '2158608400', 'landline', 'https://www.linkedin.com/in/susan-allen-544a4166', 'susan.allen@lpl.com', None, None, None, None, 43, None, 'Lpl Financial Llc: 09/08/2009 - 09/08/2016, Associated Securities Corp.: 12/22/2008 - 09/08/2009, Fsc Securities Corporation: 09/15/1997 - 12/31/2008, Lincoln Investment Planning, Inc.: 09/03/1981 - 09/16/1997', 'Lpl Financial Llc: 09/08/2009 - 09/08/2016, Strategic Wealth Advisors Group: 03/07/2008 - 12/11/2009, Fsc Securities Corporation: 09/15/1997 - 12/31/2008, Lincoln Investment Planning, Inc.: 09/03/1981 - 09/16/1997', 'female', 275095896189, None, None, None, None, None, None, None, None, None, None, None, 'eMoney,Envestnet,Tamarac,Black Diamond,Adhesion Wealth,Orion,Envestnet MoneyGuide,SEI Investments,Assetmark,Advyzon,Brinker Capital,JP Morgan', 'Nitrogen (Riskalyze),Smarsh,SS&C Technologies,Carta,Dropbox,Broadridge,Factset,DocuSign,Asset-Map,SmartAsset,FMG Suite,Calendly,RightCapital,FI 360,Morningstar,Zacks,advisorwebsites.com,NetXInvestor,ADP,Allbridge,Constant Contact,MailChimp,MSCI,S&P Global,SS&C,Twenty Over Ten,WordPress,PreciseFP', 'Financial Planning,Asset Management,Insurance,Wealth Planning,Portfolio Construction,Estate Planning,Tax Planning,Investment Planning,Life Insurance,Retirement Plans,529 Plans,College Planning,CPA & Accounting,Divorce Planning,Senior Care', 'Alternative Investments', 'Charles Schwab,Pershing,Fidelity', None, 'Salesforce,Redtail,Hubspot,Wealthbox', None, 'https://app.planprofessional.com/advisor/person/1000420', 'https://adviserinfo.sec.gov/individual/summary/1000420', 'https://brokercheck.finra.org/individual/summary/1000420', 'GREAT VALLEY ADVISOR GROUP, INC.', 'Independent RIA', '1200 Pennsylvania Ave Suite 202', 'Wilmington', 'DE', '19806', '302-483-7200', 7343187109, 24276, 'CHARLES SCHWAB & COMPANY,LPL FINANCIAL,SEI', 175.0, 175, 148.0, 'Yes', None, None, None, None, None, None, None, None, None), (10, 1000525, None, 'Barry', 'Gene', 'Steele', None, None, 'Thoroughbred Financial Services, Llc', '47893', '24.068', '2000-04-01', 'Thoroughbred Financial Services, Llc', '47893', '20.304', '2004-01-05', '5110 Maryland Way Suite 300', 'Brentwood', 'TN', '37027', 'Nashville-Davidson-Murfreesboro-Franklin, TN', 'SIE,Series 22,Series 6,Series 63,Series 65,Series 7', 'MEMBER,Partner', None, '6153710001', 'landline', 'https://www.linkedin.com/in/barry-steele-4781b09', 'bsteele@thoroughbredfinancial.com', None, None, None, None, 42, 68.0, 'Advanced Financial Planning Securities Corporation: 03/05/1986 - 04/01/2000, Capital Analysts, Incorporated: 10/13/1981 - 02/08/1986', None, 'male', 492111994086, None, None, None, None, None, None, None, None, None, None, None, 'Envestnet', None, 'Financial Planning,Portfolio Construction,Charitable Giving,Asset Management,Insurance,Investment Planning,Retirement Plans', None, 'Charles Schwab,Fidelity', None, None, None, 'https://app.planprofessional.com/advisor/person/1000525', 'https://adviserinfo.sec.gov/individual/summary/1000525', 'https://brokercheck.finra.org/individual/summary/1000525', 'THOROUGHBRED FINANCIAL SERVICES, LLC', 'Broker-Dealer', '5110 Maryland Way Suite 300', 'Brentwood', 'TN', '37027', '615-371-0001', 5827387784, 12660, 'FIDELITY/NFS', 34.0, 33, 34.0, 'Yes', None, None, None, None, None, None, None, None, None)]\""
      ]
     },
     "execution_count": 18,
     "metadata": {},
     "output_type": "execute_result"
    }
   ],
   "source": [
    "\n",
    "db = SQLDatabase.from_uri(\"sqlite:///advisors.db\")\n",
    "print(db.dialect)\n",
    "print(db.get_usable_table_names())\n",
    "db.run(\"SELECT * FROM Advisors LIMIT 10;\")"
   ]
  },
  {
   "cell_type": "code",
   "execution_count": 22,
   "metadata": {},
   "outputs": [
    {
     "data": {
      "text/plain": [
       "{'table_info': '\\nCREATE TABLE advisors (\\n\\tid INTEGER NOT NULL, \\n\\tcrd INTEGER, \\n\\tnpn FLOAT, \\n\\tfirst_name VARCHAR, \\n\\tmiddle_name VARCHAR, \\n\\tlast_name VARCHAR, \\n\\tother_names TEXT, \\n\\tteam FLOAT, \\n\\tbroker_dealer VARCHAR, \\n\\tbroker_dealer_crd VARCHAR, \\n\\tyears_with_current_bd VARCHAR, \\n\\tcurrent_bd_start_date VARCHAR, \\n\\tria VARCHAR, \\n\\tria_crd VARCHAR, \\n\\tyears_with_current_ria VARCHAR, \\n\\tcurrent_ria_state_date VARCHAR, \\n\\taddress VARCHAR, \\n\\tcity VARCHAR, \\n\\tstate VARCHAR, \\n\\tzip VARCHAR, \\n\\tmetro_area VARCHAR, \\n\\tlicenses_exams VARCHAR, \\n\\ttitle VARCHAR, \\n\\tdesignations VARCHAR, \\n\\tphone VARCHAR, \\n\\tphone_type VARCHAR, \\n\\tlinkedin VARCHAR, \\n\\temail_1 VARCHAR, \\n\\temail_2 VARCHAR, \\n\\temail_3 VARCHAR, \\n\\tpersonal_email VARCHAR, \\n\\tbio VARCHAR, \\n\\tyears_of_experience INTEGER, \\n\\test_age FLOAT, \\n\\tprevious_broker_dealer VARCHAR, \\n\\tprevious_ria VARCHAR, \\n\\tgender VARCHAR, \\n\\tteam_id INTEGER, \\n\\tperson_tag_role FLOAT, \\n\\tperson_tag_family VARCHAR, \\n\\tperson_tag_hobbies VARCHAR, \\n\\tperson_tag_expertise FLOAT, \\n\\tperson_tag_services VARCHAR, \\n\\tperson_tag_investments FLOAT, \\n\\tperson_tag_sports_teams VARCHAR, \\n\\tperson_tag_school VARCHAR, \\n\\tperson_tag_greek_life VARCHAR, \\n\\tperson_tag_military_status VARCHAR, \\n\\tperson_tag_faith_based_investing VARCHAR, \\n\\tfirm_tag_platform VARCHAR, \\n\\tfirm_tag_technology VARCHAR, \\n\\tfirm_tag_services VARCHAR, \\n\\tfirm_tag_investments VARCHAR, \\n\\tfirm_tag_custodian VARCHAR, \\n\\tfirm_tag_clients FLOAT, \\n\\tfirm_tag_crm VARCHAR, \\n\\tnotes FLOAT, \\n\\tprofile VARCHAR, \\n\\tsec_link VARCHAR, \\n\\tfinra_link VARCHAR, \\n\\tfirm_company_name VARCHAR, \\n\\tfirm_type VARCHAR, \\n\\tfirm_address VARCHAR, \\n\\tfirm_city VARCHAR, \\n\\tfirm_state VARCHAR, \\n\\tfirm_zip VARCHAR, \\n\\tfirm_phone VARCHAR, \\n\\tfirm_aum INTEGER, \\n\\tfirm_total_accounts INTEGER, \\n\\tfirm_custodians VARCHAR, \\n\\tfirm_total_employees FLOAT, \\n\\tfirm_ria_reps INTEGER, \\n\\tfirm_bd_reps FLOAT, \\n\\tfirm_form_13f VARCHAR, \\n\\tlines FLOAT, \\n\\tcarrier FLOAT, \\n\\tcompany FLOAT, \\n\\tinitial_appointment_date FLOAT, \\n\\tcaptive FLOAT, \\n\\tnum_of_carriers FLOAT, \\n\\tnum_of_lines FLOAT, \\n\\tnon_producing FLOAT, \\n\\tinsurance_years_of_experience FLOAT, \\n\\tPRIMARY KEY (id)\\n)\\n\\n/*\\n3 rows from advisors table:\\nid\\tcrd\\tnpn\\tfirst_name\\tmiddle_name\\tlast_name\\tother_names\\tteam\\tbroker_dealer\\tbroker_dealer_crd\\tyears_with_current_bd\\tcurrent_bd_start_date\\tria\\tria_crd\\tyears_with_current_ria\\tcurrent_ria_state_date\\taddress\\tcity\\tstate\\tzip\\tmetro_area\\tlicenses_exams\\ttitle\\tdesignations\\tphone\\tphone_type\\tlinkedin\\temail_1\\temail_2\\temail_3\\tpersonal_email\\tbio\\tyears_of_experience\\test_age\\tprevious_broker_dealer\\tprevious_ria\\tgender\\tteam_id\\tperson_tag_role\\tperson_tag_family\\tperson_tag_hobbies\\tperson_tag_expertise\\tperson_tag_services\\tperson_tag_investments\\tperson_tag_sports_teams\\tperson_tag_school\\tperson_tag_greek_life\\tperson_tag_military_status\\tperson_tag_faith_based_investing\\tfirm_tag_platform\\tfirm_tag_technology\\tfirm_tag_services\\tfirm_tag_investments\\tfirm_tag_custodian\\tfirm_tag_clients\\tfirm_tag_crm\\tnotes\\tprofile\\tsec_link\\tfinra_link\\tfirm_company_name\\tfirm_type\\tfirm_address\\tfirm_city\\tfirm_state\\tfirm_zip\\tfirm_phone\\tfirm_aum\\tfirm_total_accounts\\tfirm_custodians\\tfirm_total_employees\\tfirm_ria_reps\\tfirm_bd_reps\\tfirm_form_13f\\tlines\\tcarrier\\tcompany\\tinitial_appointment_date\\tcaptive\\tnum_of_carriers\\tnum_of_lines\\tnon_producing\\tinsurance_years_of_experience\\n1\\t1000034\\tNone\\tStephen\\tWendell\\tBryars\\tNone\\tNone\\tMml Investors Services, Llc\\t10409\\t7.077\\t2017-03-25\\tMml Investors Services, Llc\\t10409\\t7.077\\t2017-03-25\\t3 West Garden Street Suite 510\\tPensacola\\tFL\\t32502\\tPensacola-Ferry Pass-Brent, FL\\tSIE,Series 22,Series 6,Series 63,Series 65\\tInvestment Advisor Representative\\tNone\\tNone\\tNone\\tNone\\tsbryars@bryarsfinancialgroup.com\\tNone\\tNone\\tNone\\thttps://strategicfinancialpartners.com/our-team/stephenbryars\\t43\\tNone\\tMsi Financial Services, Inc.: 01/02/2015 - 03/25/2017, New England Securities: 08/10/1981 - 01/02/20\\tMsi Financial Services, Inc.: 01/02/2015 - 03/25/2017, New England Securities: 08/10/1981 - 01/02/20\\tmale\\t1092980425364\\tNone\\tNone\\tNone\\tNone\\tNone\\tNone\\tNone\\tNone\\tNone\\tNone\\tNone\\teMoney,SEI Investments,Black Diamond,Assetmark,Brinker Capital,Envestnet\\tNitrogen (Riskalyze),Smarsh,Carta,Broadridge,Factset,DocuSign,SmartAsset,FMG Suite,Calendly,RightCap\\tFinancial Planning,Estate Planning,Tax Planning,Portfolio Construction,Asset Management,Insurance,In\\tAlternative Investments\\tPershing,TD Ameritrade,Charles Schwab,Fidelity\\tNone\\tSalesforce,Hubspot\\tNone\\thttps://app.planprofessional.com/advisor/person/1000034\\thttps://adviserinfo.sec.gov/individual/summary/1000034\\thttps://brokercheck.finra.org/individual/summary/1000034\\tMML INVESTORS SERVICES, LLC\\tIndependent RIA, Broker-Dealer\\t1295 State Street\\tSpringfield\\tMA\\t01111\\t(413)737-8400\\t72827710537\\t351645\\tFIDELITY/NFS\\t7130.0\\t7011\\t7130.0\\tYes\\tNone\\tNone\\tNone\\tNone\\tNone\\tNone\\tNone\\tNone\\tNone\\n2\\t1000059\\tNone\\tDouglas\\tPendleton\\tGaines\\tNone\\tNone\\tStifel, Nicolaus & Company, Incorporated\\t793\\t16.611\\t2007-09-14\\tStifel, Nicolaus & Company, Incorporated\\t793\\t16.611\\t2007-09-14\\t10400 Northeast 4th Street, Suite 2000\\tBellevue\\tWA\\t98004\\tSeattle-Tacoma-Bellevue, WA\\tSIE,Series 3,Series 63,Series 66,Series 7,Series 8\\tFinancial Advisor\\tNone\\t4256373600\\tlandline\\tNone\\tgainesd@stifel.com\\tNone\\tNone\\tNone\\thttp://www.stifel.com/fa/doug-gaines-crpc\\t43\\tNone\\tA. G. Edwards & Sons, Inc.: 07/25/1989 - 09/19/2007, Shearson Lehman Hutton Inc.: 02/15/1988 - 08/21\\tNone\\tmale\\t114476452709\\tNone\\tNone\\tNone\\tNone\\tNone\\tNone\\tNone\\tNone\\tNone\\tNone\\tNone\\teMoney,Adhesion Wealth,Envestnet\\tFactset,FMG Suite,Zacks,Addepar,Broadridge,Global Relay,Smarsh,DocuSign\\tAsset Management,Tax Planning,Insurance,Wealth Planning,Portfolio Construction,Life Insurance,Retire\\tAlternative Investments\\tPershing,Charles Schwab\\tNone\\tSalesforce\\tNone\\thttps://app.planprofessional.com/advisor/person/1000059\\thttps://adviserinfo.sec.gov/individual/summary/1000059\\thttps://brokercheck.finra.org/individual/summary/1000059\\tSTIFEL, NICOLAUS & COMPANY, INCORPORATED\\tIndependent RIA, Broker-Dealer\\t501 North Broadway\\tSt. Louis\\tMO\\t63102\\t314-342-2000\\t149248936163\\t348524\\tBARCLAYS,CHARLES SCHWAB & COMPANY,PERSHING,STIFEL\\t6534.0\\t3271\\t5160.0\\tNo\\tNone\\tNone\\tNone\\tNone\\tNone\\tNone\\tNone\\tNone\\tNone\\n3\\t1000072\\tNone\\tJames\\tStephen\\tMyatt\\tJames Stephen Myatt, James S Myatt, James S. Myatt, Steve Myatt\\tNone\\tStifel, Nicolaus & Company, Incorporated\\t793\\t7.529\\t2016-10-11\\tStifel, Nicolaus & Company, Incorporated\\t793\\t7.529\\t2016-10-11\\t1200 West Highway 6 Suite 3\\tWaco\\tTX\\t76712\\tWaco, TX\\tSIE,Series 10,Series 4,Series 53,Series 63,Series 65,Series 7,Series 8,Series 9\\tSenior Manager\\tNone\\t2543997450\\tlandline\\tNone\\tmyattj@stifel.com\\tNone\\tNone\\tNone\\tNone\\t43\\tNone\\tWells Fargo Advisors, Llc: 08/21/2008 - 10/12/2016, Ubs Financial Services Inc.: 01/01/1991 - 09/17/\\tWells Fargo Advisors, Llc: 08/21/2008 - 10/12/2016, Ubs Financial Services Inc.: 01/01/1991 - 09/17/\\tmale\\t5765251462\\tNone\\tNone\\tNone\\tNone\\tNone\\tNone\\tNone\\tNone\\tNone\\tNone\\tNone\\teMoney,Adhesion Wealth,Envestnet\\tFactset,FMG Suite,Zacks,Addepar,Broadridge,Global Relay,Smarsh,DocuSign\\tAsset Management,Tax Planning,Insurance,Wealth Planning,Portfolio Construction,Life Insurance,Retire\\tAlternative Investments\\tPershing,Charles Schwab\\tNone\\tSalesforce\\tNone\\thttps://app.planprofessional.com/advisor/person/1000072\\thttps://adviserinfo.sec.gov/individual/summary/1000072\\thttps://brokercheck.finra.org/individual/summary/1000072\\tSTIFEL, NICOLAUS & COMPANY, INCORPORATED\\tIndependent RIA, Broker-Dealer\\t501 North Broadway\\tSt. Louis\\tMO\\t63102\\t314-342-2000\\t149248936163\\t348524\\tBARCLAYS,CHARLES SCHWAB & COMPANY,PERSHING,STIFEL\\t6534.0\\t3271\\t5160.0\\tNo\\tNone\\tNone\\tNone\\tNone\\tNone\\tNone\\tNone\\tNone\\tNone\\n*/\\n\\n\\nCREATE TABLE brokercheck_data (\\n\\tid INTEGER NOT NULL, \\n\\tadvisor_id INTEGER, \\n\\tdisclosures JSON, \\n\\ttimeline JSON, \\n\\texams JSON, \\n\\tstate_registrations JSON, \\n\\tsro_registrations JSON, \\n\\tcurrent_registrations JSON, \\n\\tprevious_registrations JSON, \\n\\tPRIMARY KEY (id), \\n\\tFOREIGN KEY(advisor_id) REFERENCES advisors (id)\\n)\\n\\n/*\\n3 rows from brokercheck_data table:\\nid\\tadvisor_id\\tdisclosures\\ttimeline\\texams\\tstate_registrations\\tsro_registrations\\tcurrent_registrations\\tprevious_registrations\\n1\\t4\\t0\\t[{\\'firm\\': \\'FIRST COMMAND ADVISORY SERVICES (CRD# 281958)\\', \\'years\\': \\'2015 - Present (8 years)\\'}, {\\'f\\t[{\\'category\\': \\'State Securities Law Exam\\', \\'exams\\': [{\\'name\\': \\'Series 65 - Uniform Investment Advise\\t[]\\t[\\'FINRA\\']\\t[{\\'firm_name\\': \\'FIRST COMMAND BROKERAGE SERVICES, INC. (CRD#:3641)\\', \\'crd_number\\': \\'3641\\', \\'address\\'\\t[{\\'as_a\\': \\'Investment Advisor\\', \\'registration_period\\': \\'08/20/2008 - 12/15/2015\\', \\'firm_name\\': \\'FIRS\\n2\\t5\\t1\\t[{\\'firm\\': \\'EPLANNING SECURITIES, INC. (CRD# 46000)\\', \\'years\\': \\'2007 - 2007 (<1 year)\\'}, {\\'firm\\': \\'NF\\t[{\\'category\\': \\'State Securities Law Exam\\', \\'exams\\': [{\\'name\\': \\'Series 65 - Uniform Investment Advise\\t[]\\t[]\\t[]\\t[{\\'as_a\\': \\'Broker\\', \\'registration_period\\': \\'03/06/2007 - 09/26/2007\\', \\'firm_name\\': \\'EPLANNING SECURI\\n3\\t6\\t0\\t[{\\'firm\\': \\'2 FIRMS\\', \\'years\\': \\'2010 - 2017 (7 years)\\'}, {\\'firm\\': \\'RBA WEALTH MANAGEMENT, LLC (CRD# 2\\t[{\\'category\\': \\'State Securities Law Exam\\', \\'exams\\': [{\\'name\\': \\'Series 66 - Uniform Combined State La\\t[]\\t[\\'FINRA\\']\\t[{\\'firm_name\\': \\'PURSHE KAPLAN STERLING INVESTMENTS (CRD#:35747)\\', \\'crd_number\\': \\'35747\\', \\'address\\': \\t[{\\'as_a\\': \\'Investment Advisor\\', \\'registration_period\\': \\'11/03/2017 - 01/03/2018\\', \\'firm_name\\': \\'N/A\\'\\n*/\\n\\n\\nCREATE TABLE linkedin_profiles (\\n\\turn VARCHAR NOT NULL, \\n\\tadvisor_id INTEGER, \\n\\tusername VARCHAR, \\n\\t\"firstName\" VARCHAR, \\n\\t\"lastName\" VARCHAR, \\n\\t\"isCreator\" BOOLEAN, \\n\\t\"isOpenToWork\" BOOLEAN, \\n\\t\"isHiring\" BOOLEAN, \\n\\t\"profilePicture\" VARCHAR, \\n\\t\"backgroundImage\" JSON, \\n\\tsummary TEXT, \\n\\theadline VARCHAR, \\n\\tgeo JSON, \\n\\tlanguages JSON, \\n\\teducations JSON, \\n\\tposition JSON, \\n\\t\"fullPositions\" JSON, \\n\\tskills JSON, \\n\\tcourses JSON, \\n\\tcertifications JSON, \\n\\thonors JSON, \\n\\tprojects JSON, \\n\\tvolunteering JSON, \\n\\tPRIMARY KEY (urn), \\n\\tFOREIGN KEY(advisor_id) REFERENCES advisors (id)\\n)\\n\\n/*\\n3 rows from linkedin_profiles table:\\nurn\\tadvisor_id\\tusername\\tfirstName\\tlastName\\tisCreator\\tisOpenToWork\\tisHiring\\tprofilePicture\\tbackgroundImage\\tsummary\\theadline\\tgeo\\tlanguages\\teducations\\tposition\\tfullPositions\\tskills\\tcourses\\tcertifications\\thonors\\tprojects\\tvolunteering\\nACoAAAQjPjABHZr3KkdKb3cae3wIV3kao2WV2jg\\t4\\tbillstropp\\tBill\\tStropp\\tFalse\\tFalse\\tFalse\\thttps://media.licdn.com/dms/image/C4D03AQGN35_EF9t7bw/profile-displayphoto-shrink_800_800/0/15168656\\t[{\\'width\\': 400, \\'height\\': 100, \\'url\\': \\'https://media.licdn.com/dms/image/C4E16AQGUGdSosuQfLg/profile\\tAssisting existing clients and creating new clients for First Command Financial Services in Central \\tFinancial Advisor and Principal at First Command Financial Services, Inc.\\t{\\'country\\': \\'United States\\', \\'city\\': \\'Lady Lake, Florida\\', \\'full\\': \\'Lady Lake, Florida, United State\\tNone\\t[{\\'start\\': {\\'year\\': 1969, \\'month\\': 0, \\'day\\': 0}, \\'end\\': {\\'year\\': 1973, \\'month\\': 0, \\'day\\': 0}, \\'field\\t[{\\'companyName\\': \\'First Command Financial Services, Inc.\\', \\'companyUsername\\': \\'first-command-financi\\t[{\\'companyName\\': \\'First Command Financial Services, Inc.\\', \\'companyUsername\\': \\'first-command-financi\\t[{\\'name\\': \\'Financial Planning\\', \\'passedSkillAssessment\\': False}, {\\'name\\': \\'Investments\\', \\'passedSkil\\tNone\\tNone\\t[{\\'title\\': \\'Regional Recruiter of the Year\\', \\'description\\': \\'1998\\', \\'issuer\\': \\'First Command Financi\\t{\\'total\\': 0, \\'items\\': None}\\tNone\\nACoAABeQY5UB6Z0_AMgRXSNppl4U4Hl9ICFKlyI\\t5\\tgeorge-t-damasco-b31493b0\\tGeorge T.\\tDamasco\\tFalse\\tFalse\\tFalse\\thttps://media.licdn.com/dms/image/D5603AQGyw6Rb2hgcBw/profile-displayphoto-shrink_800_800/0/16861547\\t[{\\'width\\': 800, \\'height\\': 199, \\'url\\': \\'https://media.licdn.com/dms/image/D5616AQH2JYymzNk-Eg/profile\\tAt MPM Wealth Advisors, we know you want to be excited about retirement. To do that, you need to mak\\tPartner @ MPM Wealth Advisors\\t{\\'country\\': \\'United States\\', \\'city\\': \\'Holland, Ohio\\', \\'full\\': \\'Holland, Ohio, United States\\'}\\t[{\\'name\\': \\'English\\', \\'proficiency\\': \\'\\'}]\\t[{\\'start\\': {\\'year\\': 2004, \\'month\\': 0, \\'day\\': 0}, \\'end\\': {\\'year\\': 2008, \\'month\\': 0, \\'day\\': 0}, \\'field\\t[{\\'companyName\\': \\'MPM Wealth Advisors\\', \\'companyUsername\\': \\'mpm-wealth-advisors\\', \\'companyURL\\': \\'htt\\t[{\\'companyName\\': \\'MPM Wealth Advisors\\', \\'companyUsername\\': \\'mpm-wealth-advisors\\', \\'companyURL\\': \\'htt\\t[{\\'name\\': \\'Investments\\', \\'passedSkillAssessment\\': False}, {\\'name\\': \\'Portfolio Management\\', \\'passedSk\\tNone\\tNone\\tNone\\t{\\'total\\': 0, \\'items\\': None}\\t[{\\'title\\': \\'President, Vice President, Sgt at Arms, President of Board\\', \\'start\\': {\\'year\\': 2007, \\'mo\\nACoAAA-cuJwBjUYsUsaEOYUA459U8LGKQa_kefs\\t6\\tthomas-hoffman-42487773\\tThomas\\tHoffman\\tFalse\\tFalse\\tFalse\\t\\t[{\\'width\\': 800, \\'height\\': 200, \\'url\\': \\'https://media.licdn.com/dms/image/C5616AQF33h-UOBXGuw/profile\\tI began working with Principal Financial in 2022. As a financial professional, my goal is to listen \\tFinancial Representative, Principal Securities Registered Representative, Financial Advisor at Princ\\t{\\'country\\': \\'United States\\', \\'city\\': \\'Greater Minneapolis-St. Paul Area\\', \\'full\\': \\'Greater Minneapol\\t[{\\'name\\': \\'English\\', \\'proficiency\\': \\'NATIVE_OR_BILINGUAL\\'}, {\\'name\\': \\'German\\', \\'proficiency\\': \\'LIMIT\\t[{\\'start\\': {\\'year\\': 2012, \\'month\\': 0, \\'day\\': 0}, \\'end\\': {\\'year\\': 2016, \\'month\\': 0, \\'day\\': 0}, \\'field\\t[{\\'companyName\\': \\'Principal Financial Group\\', \\'companyUsername\\': \\'principalfinancialgroup\\', \\'company\\t[{\\'companyName\\': \\'Principal Financial Group\\', \\'companyUsername\\': \\'principalfinancialgroup\\', \\'company\\t[{\\'name\\': \\'Retirement Planning\\', \\'passedSkillAssessment\\': False}]\\tNone\\tNone\\tNone\\t{\\'total\\': 0, \\'items\\': None}\\tNone\\n*/',\n",
       " 'table_names': 'advisors, brokercheck_data, linkedin_profiles'}"
      ]
     },
     "execution_count": 22,
     "metadata": {},
     "output_type": "execute_result"
    }
   ],
   "source": [
    "db.get_context()"
   ]
  },
  {
   "cell_type": "code",
   "execution_count": null,
   "metadata": {},
   "outputs": [],
   "source": [
    "print(db.get_usable_table_names())\n",
    "print(db.table_info)\n"
   ]
  },
  {
   "cell_type": "code",
   "execution_count": 19,
   "metadata": {},
   "outputs": [],
   "source": [
    "llm = ChatOpenAI(model=\"gpt-4o\")\n",
    "toolkit = SQLDatabaseToolkit(db=db, llm=llm)"
   ]
  },
  {
   "cell_type": "markdown",
   "metadata": {},
   "source": [
    "### Query Validation"
   ]
  },
  {
   "cell_type": "code",
   "execution_count": 23,
   "metadata": {},
   "outputs": [
    {
     "name": "stdout",
     "output_type": "stream",
     "text": [
      "You are a SQLite expert. Given an input question, first create a syntactically correct SQLite query to run, then look at the results of the query and return the answer to the input question.\n",
      "Unless the user specifies in the question a specific number of examples to obtain, query for at most 5 results using the LIMIT clause as per SQLite. You can order the results to return the most informative data in the database.\n",
      "Never query for all columns from a table. You must query only the columns that are needed to answer the question. Wrap each column name in double quotes (\") to denote them as delimited identifiers.\n",
      "Pay attention to use only the column names you can see in the tables below. Be careful to not query for columns that do not exist. Also, pay attention to which column is in which table.\n",
      "Pay attention to use date('now') function to get the current date, if the question involves \"today\".\n",
      "\n",
      "Use the following format:\n",
      "\n",
      "Question: Question here\n",
      "SQLQuery: SQL Query to run\n",
      "SQLResult: Result of the SQLQuery\n",
      "Answer: Final answer here\n",
      "\n",
      "Only use the following tables:\n",
      "\u001b[33;1m\u001b[1;3m{table_info}\u001b[0m\n",
      "\n",
      "Question: \u001b[33;1m\u001b[1;3m{input}\u001b[0m\n"
     ]
    }
   ],
   "source": [
    "from langchain.chains import create_sql_query_chain\n",
    "\n",
    "\n",
    "chain = create_sql_query_chain(llm, db)\n",
    "chain.get_prompts()[0].pretty_print()"
   ]
  },
  {
   "cell_type": "code",
   "execution_count": 25,
   "metadata": {},
   "outputs": [],
   "source": [
    "context = db.get_context()\n",
    "\n",
    "prompt_with_context = chain.get_prompts()[0].partial(table_info=context[\"table_info\"])"
   ]
  },
  {
   "cell_type": "code",
   "execution_count": 60,
   "metadata": {},
   "outputs": [
    {
     "data": {
      "text/plain": [
       "'\\nCREATE TABLE advisors (\\n\\tid INTEGER NOT NULL, \\n\\tcrd INTEGER, \\n\\tnpn FLOAT, \\n\\tfirst_name VARCHAR, \\n\\tmiddle_name VARCHAR, \\n\\tlast_name VARCHAR, \\n\\tother_names TEXT, \\n\\tteam FLOAT, \\n\\tbroker_dealer VARCHAR, \\n\\tbroker_dealer_crd VARCHAR, \\n\\tyears_with_current_bd VARCHAR, \\n\\tcurrent_bd_start_date VARCHAR, \\n\\tria VARCHAR, \\n\\tria_crd VARCHAR, \\n\\tyears_with_current_ria VARCHAR, \\n\\tcurrent_ria_state_date VARCHAR, \\n\\taddress VARCHAR, \\n\\tcity VARCHAR, \\n\\tstate VARCHAR, \\n\\tzip VARCHAR, \\n\\tmetro_area VARCHAR, \\n\\tlicenses_exams VARCHAR, \\n\\ttitle VARCHAR, \\n\\tdesignations VARCHAR, \\n\\tphone VARCHAR, \\n\\tphone_type VARCHAR, \\n\\tlinkedin VARCHAR, \\n\\temail_1 VARCHAR, \\n\\temail_2 VARCHAR, \\n\\temail_3 VARCHAR, \\n\\tpersonal_email VARCHAR, \\n\\tbio VARCHAR, \\n\\tyears_of_experience INTEGER, \\n\\test_age FLOAT, \\n\\tprevious_broker_dealer VARCHAR, \\n\\tprevious_ria VARCHAR, \\n\\tgender VARCHAR, \\n\\tteam_id INTEGER, \\n\\tperson_tag_role FLOAT, \\n\\tperson_tag_family VARCHAR, \\n\\tperson_tag_hobbies VARCHAR, \\n\\tperson_tag_expertise FLOAT, \\n\\tperson_tag_services VARCHAR, \\n\\tperson_tag_investments FLOAT, \\n\\tperson_tag_sports_teams VARCHAR, \\n\\tperson_tag_school VARCHAR, \\n\\tperson_tag_greek_life VARCHAR, \\n\\tperson_tag_military_status VARCHAR, \\n\\tperson_tag_faith_based_investing VARCHAR, \\n\\tfirm_tag_platform VARCHAR, \\n\\tfirm_tag_technology VARCHAR, \\n\\tfirm_tag_services VARCHAR, \\n\\tfirm_tag_investments VARCHAR, \\n\\tfirm_tag_custodian VARCHAR, \\n\\tfirm_tag_clients FLOAT, \\n\\tfirm_tag_crm VARCHAR, \\n\\tnotes FLOAT, \\n\\tprofile VARCHAR, \\n\\tsec_link VARCHAR, \\n\\tfinra_link VARCHAR, \\n\\tfirm_company_name VARCHAR, \\n\\tfirm_type VARCHAR, \\n\\tfirm_address VARCHAR, \\n\\tfirm_city VARCHAR, \\n\\tfirm_state VARCHAR, \\n\\tfirm_zip VARCHAR, \\n\\tfirm_phone VARCHAR, \\n\\tfirm_aum INTEGER, \\n\\tfirm_total_accounts INTEGER, \\n\\tfirm_custodians VARCHAR, \\n\\tfirm_total_employees FLOAT, \\n\\tfirm_ria_reps INTEGER, \\n\\tfirm_bd_reps FLOAT, \\n\\tfirm_form_13f VARCHAR, \\n\\tlines FLOAT, \\n\\tcarrier FLOAT, \\n\\tcompany FLOAT, \\n\\tinitial_appointment_date FLOAT, \\n\\tcaptive FLOAT, \\n\\tnum_of_carriers FLOAT, \\n\\tnum_of_lines FLOAT, \\n\\tnon_producing FLOAT, \\n\\tinsurance_years_of_experience FLOAT, \\n\\tPRIMARY KEY (id)\\n)\\n\\n/*\\n3 rows from advisors table:\\nid\\tcrd\\tnpn\\tfirst_name\\tmiddle_name\\tlast_name\\tother_names\\tteam\\tbroker_dealer\\tbroker_dealer_crd\\tyears_with_current_bd\\tcurrent_bd_start_date\\tria\\tria_crd\\tyears_with_current_ria\\tcurrent_ria_state_date\\taddress\\tcity\\tstate\\tzip\\tmetro_area\\tlicenses_exams\\ttitle\\tdesignations\\tphone\\tphone_type\\tlinkedin\\temail_1\\temail_2\\temail_3\\tpersonal_email\\tbio\\tyears_of_experience\\test_age\\tprevious_broker_dealer\\tprevious_ria\\tgender\\tteam_id\\tperson_tag_role\\tperson_tag_family\\tperson_tag_hobbies\\tperson_tag_expertise\\tperson_tag_services\\tperson_tag_investments\\tperson_tag_sports_teams\\tperson_tag_school\\tperson_tag_greek_life\\tperson_tag_military_status\\tperson_tag_faith_based_investing\\tfirm_tag_platform\\tfirm_tag_technology\\tfirm_tag_services\\tfirm_tag_investments\\tfirm_tag_custodian\\tfirm_tag_clients\\tfirm_tag_crm\\tnotes\\tprofile\\tsec_link\\tfinra_link\\tfirm_company_name\\tfirm_type\\tfirm_address\\tfirm_city\\tfirm_state\\tfirm_zip\\tfirm_phone\\tfirm_aum\\tfirm_total_accounts\\tfirm_custodians\\tfirm_total_employees\\tfirm_ria_reps\\tfirm_bd_reps\\tfirm_form_13f\\tlines\\tcarrier\\tcompany\\tinitial_appointment_date\\tcaptive\\tnum_of_carriers\\tnum_of_lines\\tnon_producing\\tinsurance_years_of_experience\\n1\\t1000034\\tNone\\tStephen\\tWendell\\tBryars\\tNone\\tNone\\tMml Investors Services, Llc\\t10409\\t7.077\\t2017-03-25\\tMml Investors Services, Llc\\t10409\\t7.077\\t2017-03-25\\t3 West Garden Street Suite 510\\tPensacola\\tFL\\t32502\\tPensacola-Ferry Pass-Brent, FL\\tSIE,Series 22,Series 6,Series 63,Series 65\\tInvestment Advisor Representative\\tNone\\tNone\\tNone\\tNone\\tsbryars@bryarsfinancialgroup.com\\tNone\\tNone\\tNone\\thttps://strategicfinancialpartners.com/our-team/stephenbryars\\t43\\tNone\\tMsi Financial Services, Inc.: 01/02/2015 - 03/25/2017, New England Securities: 08/10/1981 - 01/02/20\\tMsi Financial Services, Inc.: 01/02/2015 - 03/25/2017, New England Securities: 08/10/1981 - 01/02/20\\tmale\\t1092980425364\\tNone\\tNone\\tNone\\tNone\\tNone\\tNone\\tNone\\tNone\\tNone\\tNone\\tNone\\teMoney,SEI Investments,Black Diamond,Assetmark,Brinker Capital,Envestnet\\tNitrogen (Riskalyze),Smarsh,Carta,Broadridge,Factset,DocuSign,SmartAsset,FMG Suite,Calendly,RightCap\\tFinancial Planning,Estate Planning,Tax Planning,Portfolio Construction,Asset Management,Insurance,In\\tAlternative Investments\\tPershing,TD Ameritrade,Charles Schwab,Fidelity\\tNone\\tSalesforce,Hubspot\\tNone\\thttps://app.planprofessional.com/advisor/person/1000034\\thttps://adviserinfo.sec.gov/individual/summary/1000034\\thttps://brokercheck.finra.org/individual/summary/1000034\\tMML INVESTORS SERVICES, LLC\\tIndependent RIA, Broker-Dealer\\t1295 State Street\\tSpringfield\\tMA\\t01111\\t(413)737-8400\\t72827710537\\t351645\\tFIDELITY/NFS\\t7130.0\\t7011\\t7130.0\\tYes\\tNone\\tNone\\tNone\\tNone\\tNone\\tNone\\tNone\\tNone\\tNone\\n2\\t1000059\\tNone\\tDouglas\\tPendleton\\tGaines\\tNone\\tNone\\tStifel, Nicolaus & Company, Incorporated\\t793\\t16.611\\t2007-09-14\\tStifel, Nicolaus & Company, Incorporated\\t793\\t16.611\\t2007-09-14\\t10400 Northeast 4th Street, Suite 2000\\tBellevue\\tWA\\t98004\\tSeattle-Tacoma-Bellevue, WA\\tSIE,Series 3,Series 63,Series 66,Series 7,Series 8\\tFinancial Advisor\\tNone\\t4256373600\\tlandline\\tNone\\tgainesd@stifel.com\\tNone\\tNone\\tNone\\thttp://www.stifel.com/fa/doug-gaines-crpc\\t43\\tNone\\tA. G. Edwards & Sons, Inc.: 07/25/1989 - 09/19/2007, Shearson Lehman Hutton Inc.: 02/15/1988 - 08/21\\tNone\\tmale\\t114476452709\\tNone\\tNone\\tNone\\tNone\\tNone\\tNone\\tNone\\tNone\\tNone\\tNone\\tNone\\teMoney,Adhesion Wealth,Envestnet\\tFactset,FMG Suite,Zacks,Addepar,Broadridge,Global Relay,Smarsh,DocuSign\\tAsset Management,Tax Planning,Insurance,Wealth Planning,Portfolio Construction,Life Insurance,Retire\\tAlternative Investments\\tPershing,Charles Schwab\\tNone\\tSalesforce\\tNone\\thttps://app.planprofessional.com/advisor/person/1000059\\thttps://adviserinfo.sec.gov/individual/summary/1000059\\thttps://brokercheck.finra.org/individual/summary/1000059\\tSTIFEL, NICOLAUS & COMPANY, INCORPORATED\\tIndependent RIA, Broker-Dealer\\t501 North Broadway\\tSt. Louis\\tMO\\t63102\\t314-342-2000\\t149248936163\\t348524\\tBARCLAYS,CHARLES SCHWAB & COMPANY,PERSHING,STIFEL\\t6534.0\\t3271\\t5160.0\\tNo\\tNone\\tNone\\tNone\\tNone\\tNone\\tNone\\tNone\\tNone\\tNone\\n3\\t1000072\\tNone\\tJames\\tStephen\\tMyatt\\tJames Stephen Myatt, James S Myatt, James S. Myatt, Steve Myatt\\tNone\\tStifel, Nicolaus & Company, Incorporated\\t793\\t7.529\\t2016-10-11\\tStifel, Nicolaus & Company, Incorporated\\t793\\t7.529\\t2016-10-11\\t1200 West Highway 6 Suite 3\\tWaco\\tTX\\t76712\\tWaco, TX\\tSIE,Series 10,Series 4,Series 53,Series 63,Series 65,Series 7,Series 8,Series 9\\tSenior Manager\\tNone\\t2543997450\\tlandline\\tNone\\tmyattj@stifel.com\\tNone\\tNone\\tNone\\tNone\\t43\\tNone\\tWells Fargo Advisors, Llc: 08/21/2008 - 10/12/2016, Ubs Financial Services Inc.: 01/01/1991 - 09/17/\\tWells Fargo Advisors, Llc: 08/21/2008 - 10/12/2016, Ubs Financial Services Inc.: 01/01/1991 - 09/17/\\tmale\\t5765251462\\tNone\\tNone\\tNone\\tNone\\tNone\\tNone\\tNone\\tNone\\tNone\\tNone\\tNone\\teMoney,Adhesion Wealth,Envestnet\\tFactset,FMG Suite,Zacks,Addepar,Broadridge,Global Relay,Smarsh,DocuSign\\tAsset Management,Tax Planning,Insurance,Wealth Planning,Portfolio Construction,Life Insurance,Retire\\tAlternative Investments\\tPershing,Charles Schwab\\tNone\\tSalesforce\\tNone\\thttps://app.planprofessional.com/advisor/person/1000072\\thttps://adviserinfo.sec.gov/individual/summary/1000072\\thttps://brokercheck.finra.org/individual/summary/1000072\\tSTIFEL, NICOLAUS & COMPANY, INCORPORATED\\tIndependent RIA, Broker-Dealer\\t501 North Broadway\\tSt. Louis\\tMO\\t63102\\t314-342-2000\\t149248936163\\t348524\\tBARCLAYS,CHARLES SCHWAB & COMPANY,PERSHING,STIFEL\\t6534.0\\t3271\\t5160.0\\tNo\\tNone\\tNone\\tNone\\tNone\\tNone\\tNone\\tNone\\tNone\\tNone\\n*/\\n\\n\\nCREATE TABLE brokercheck_data (\\n\\tid INTEGER NOT NULL, \\n\\tadvisor_id INTEGER, \\n\\tdisclosures JSON, \\n\\ttimeline JSON, \\n\\texams JSON, \\n\\tstate_registrations JSON, \\n\\tsro_registrations JSON, \\n\\tcurrent_registrations JSON, \\n\\tprevious_registrations JSON, \\n\\tPRIMARY KEY (id), \\n\\tFOREIGN KEY(advisor_id) REFERENCES advisors (id)\\n)\\n\\n/*\\n3 rows from brokercheck_data table:\\nid\\tadvisor_id\\tdisclosures\\ttimeline\\texams\\tstate_registrations\\tsro_registrations\\tcurrent_registrations\\tprevious_registrations\\n1\\t4\\t0\\t[{\\'firm\\': \\'FIRST COMMAND ADVISORY SERVICES (CRD# 281958)\\', \\'years\\': \\'2015 - Present (8 years)\\'}, {\\'f\\t[{\\'category\\': \\'State Securities Law Exam\\', \\'exams\\': [{\\'name\\': \\'Series 65 - Uniform Investment Advise\\t[]\\t[\\'FINRA\\']\\t[{\\'firm_name\\': \\'FIRST COMMAND BROKERAGE SERVICES, INC. (CRD#:3641)\\', \\'crd_number\\': \\'3641\\', \\'address\\'\\t[{\\'as_a\\': \\'Investment Advisor\\', \\'registration_period\\': \\'08/20/2008 - 12/15/2015\\', \\'firm_name\\': \\'FIRS\\n2\\t5\\t1\\t[{\\'firm\\': \\'EPLANNING SECURITIES, INC. (CRD# 46000)\\', \\'years\\': \\'2007 - 2007 (<1 year)\\'}, {\\'firm\\': \\'NF\\t[{\\'category\\': \\'State Securities Law Exam\\', \\'exams\\': [{\\'name\\': \\'Series 65 - Uniform Investment Advise\\t[]\\t[]\\t[]\\t[{\\'as_a\\': \\'Broker\\', \\'registration_period\\': \\'03/06/2007 - 09/26/2007\\', \\'firm_name\\': \\'EPLANNING SECURI\\n3\\t6\\t0\\t[{\\'firm\\': \\'2 FIRMS\\', \\'years\\': \\'2010 - 2017 (7 years)\\'}, {\\'firm\\': \\'RBA WEALTH MANAGEMENT, LLC (CRD# 2\\t[{\\'category\\': \\'State Securities Law Exam\\', \\'exams\\': [{\\'name\\': \\'Series 66 - Uniform Combined State La\\t[]\\t[\\'FINRA\\']\\t[{\\'firm_name\\': \\'PURSHE KAPLAN STERLING INVESTMENTS (CRD#:35747)\\', \\'crd_number\\': \\'35747\\', \\'address\\': \\t[{\\'as_a\\': \\'Investment Advisor\\', \\'registration_period\\': \\'11/03/2017 - 01/03/2018\\', \\'firm_name\\': \\'N/A\\'\\n*/\\n\\n\\nCREATE TABLE linkedin_profiles (\\n\\turn VARCHAR NOT NULL, \\n\\tadvisor_id INTEGER, \\n\\tusername VARCHAR, \\n\\t\"firstName\" VARCHAR, \\n\\t\"lastName\" VARCHAR, \\n\\t\"isCreator\" BOOLEAN, \\n\\t\"isOpenToWork\" BOOLEAN, \\n\\t\"isHiring\" BOOLEAN, \\n\\t\"profilePicture\" VARCHAR, \\n\\t\"backgroundImage\" JSON, \\n\\tsummary TEXT, \\n\\theadline VARCHAR, \\n\\tgeo JSON, \\n\\tlanguages JSON, \\n\\teducations JSON, \\n\\tposition JSON, \\n\\t\"fullPositions\" JSON, \\n\\tskills JSON, \\n\\tcourses JSON, \\n\\tcertifications JSON, \\n\\thonors JSON, \\n\\tprojects JSON, \\n\\tvolunteering JSON, \\n\\tPRIMARY KEY (urn), \\n\\tFOREIGN KEY(advisor_id) REFERENCES advisors (id)\\n)\\n\\n/*\\n3 rows from linkedin_profiles table:\\nurn\\tadvisor_id\\tusername\\tfirstName\\tlastName\\tisCreator\\tisOpenToWork\\tisHiring\\tprofilePicture\\tbackgroundImage\\tsummary\\theadline\\tgeo\\tlanguages\\teducations\\tposition\\tfullPositions\\tskills\\tcourses\\tcertifications\\thonors\\tprojects\\tvolunteering\\nACoAAAQjPjABHZr3KkdKb3cae3wIV3kao2WV2jg\\t4\\tbillstropp\\tBill\\tStropp\\tFalse\\tFalse\\tFalse\\thttps://media.licdn.com/dms/image/C4D03AQGN35_EF9t7bw/profile-displayphoto-shrink_800_800/0/15168656\\t[{\\'width\\': 400, \\'height\\': 100, \\'url\\': \\'https://media.licdn.com/dms/image/C4E16AQGUGdSosuQfLg/profile\\tAssisting existing clients and creating new clients for First Command Financial Services in Central \\tFinancial Advisor and Principal at First Command Financial Services, Inc.\\t{\\'country\\': \\'United States\\', \\'city\\': \\'Lady Lake, Florida\\', \\'full\\': \\'Lady Lake, Florida, United State\\tNone\\t[{\\'start\\': {\\'year\\': 1969, \\'month\\': 0, \\'day\\': 0}, \\'end\\': {\\'year\\': 1973, \\'month\\': 0, \\'day\\': 0}, \\'field\\t[{\\'companyName\\': \\'First Command Financial Services, Inc.\\', \\'companyUsername\\': \\'first-command-financi\\t[{\\'companyName\\': \\'First Command Financial Services, Inc.\\', \\'companyUsername\\': \\'first-command-financi\\t[{\\'name\\': \\'Financial Planning\\', \\'passedSkillAssessment\\': False}, {\\'name\\': \\'Investments\\', \\'passedSkil\\tNone\\tNone\\t[{\\'title\\': \\'Regional Recruiter of the Year\\', \\'description\\': \\'1998\\', \\'issuer\\': \\'First Command Financi\\t{\\'total\\': 0, \\'items\\': None}\\tNone\\nACoAABeQY5UB6Z0_AMgRXSNppl4U4Hl9ICFKlyI\\t5\\tgeorge-t-damasco-b31493b0\\tGeorge T.\\tDamasco\\tFalse\\tFalse\\tFalse\\thttps://media.licdn.com/dms/image/D5603AQGyw6Rb2hgcBw/profile-displayphoto-shrink_800_800/0/16861547\\t[{\\'width\\': 800, \\'height\\': 199, \\'url\\': \\'https://media.licdn.com/dms/image/D5616AQH2JYymzNk-Eg/profile\\tAt MPM Wealth Advisors, we know you want to be excited about retirement. To do that, you need to mak\\tPartner @ MPM Wealth Advisors\\t{\\'country\\': \\'United States\\', \\'city\\': \\'Holland, Ohio\\', \\'full\\': \\'Holland, Ohio, United States\\'}\\t[{\\'name\\': \\'English\\', \\'proficiency\\': \\'\\'}]\\t[{\\'start\\': {\\'year\\': 2004, \\'month\\': 0, \\'day\\': 0}, \\'end\\': {\\'year\\': 2008, \\'month\\': 0, \\'day\\': 0}, \\'field\\t[{\\'companyName\\': \\'MPM Wealth Advisors\\', \\'companyUsername\\': \\'mpm-wealth-advisors\\', \\'companyURL\\': \\'htt\\t[{\\'companyName\\': \\'MPM Wealth Advisors\\', \\'companyUsername\\': \\'mpm-wealth-advisors\\', \\'companyURL\\': \\'htt\\t[{\\'name\\': \\'Investments\\', \\'passedSkillAssessment\\': False}, {\\'name\\': \\'Portfolio Management\\', \\'passedSk\\tNone\\tNone\\tNone\\t{\\'total\\': 0, \\'items\\': None}\\t[{\\'title\\': \\'President, Vice President, Sgt at Arms, President of Board\\', \\'start\\': {\\'year\\': 2007, \\'mo\\nACoAAA-cuJwBjUYsUsaEOYUA459U8LGKQa_kefs\\t6\\tthomas-hoffman-42487773\\tThomas\\tHoffman\\tFalse\\tFalse\\tFalse\\t\\t[{\\'width\\': 800, \\'height\\': 200, \\'url\\': \\'https://media.licdn.com/dms/image/C5616AQF33h-UOBXGuw/profile\\tI began working with Principal Financial in 2022. As a financial professional, my goal is to listen \\tFinancial Representative, Principal Securities Registered Representative, Financial Advisor at Princ\\t{\\'country\\': \\'United States\\', \\'city\\': \\'Greater Minneapolis-St. Paul Area\\', \\'full\\': \\'Greater Minneapol\\t[{\\'name\\': \\'English\\', \\'proficiency\\': \\'NATIVE_OR_BILINGUAL\\'}, {\\'name\\': \\'German\\', \\'proficiency\\': \\'LIMIT\\t[{\\'start\\': {\\'year\\': 2012, \\'month\\': 0, \\'day\\': 0}, \\'end\\': {\\'year\\': 2016, \\'month\\': 0, \\'day\\': 0}, \\'field\\t[{\\'companyName\\': \\'Principal Financial Group\\', \\'companyUsername\\': \\'principalfinancialgroup\\', \\'company\\t[{\\'companyName\\': \\'Principal Financial Group\\', \\'companyUsername\\': \\'principalfinancialgroup\\', \\'company\\t[{\\'name\\': \\'Retirement Planning\\', \\'passedSkillAssessment\\': False}]\\tNone\\tNone\\tNone\\t{\\'total\\': 0, \\'items\\': None}\\tNone\\n*/'"
      ]
     },
     "execution_count": 60,
     "metadata": {},
     "output_type": "execute_result"
    }
   ],
   "source": [
    "context[\"table_info\"]"
   ]
  },
  {
   "cell_type": "code",
   "execution_count": 26,
   "metadata": {},
   "outputs": [],
   "source": [
    "\n",
    "examples = [\n",
    "    {\n",
    "        \"input\": \"Tell me more about Stephen Bryars?\",\n",
    "        \"query\": \"SELECT * FROM advisors WHERE first_name = 'Stephen' AND last_name = 'Bryars';\"\n",
    "    },\n",
    "    {\n",
    "        \"input\": \"What schools did Douglas Gaines go to?\",\n",
    "        \"query\": \"SELECT linkedin_profiles.educations FROM linkedin_profiles JOIN advisors ON linkedin_profiles.advisor_id = advisors.id WHERE advisors.first_name = 'Douglas' AND advisors.last_name = 'Gaines';\"\n",
    "    },\n",
    "    {\n",
    "        \"input\": \"Do they have any disclosure? If so, how recent and what was the dollar amount?\",\n",
    "        \"query\": \"SELECT disclosures FROM brokercheck_data JOIN advisors ON brokercheck_data.advisor_id = advisors.id WHERE advisors.first_name = 'James' AND advisors.last_name = 'Myatt';\"\n",
    "    },\n",
    "    {\n",
    "        \"input\": \"Who does James Myatt work for?\",\n",
    "        \"query\": \"SELECT broker_dealer, ria FROM advisors WHERE first_name = 'James' AND last_name = 'Myatt';\"\n",
    "    },\n",
    "    {\n",
    "        \"input\": \"How many people work at Stifel, Nicolaus & Company, Incorporated?\",\n",
    "        \"query\": \"SELECT COUNT(*) FROM advisors WHERE firm_company_name = 'Stifel, Nicolaus & Company, Incorporated';\"\n",
    "    },\n",
    "    {\n",
    "        \"input\": \"Find the LinkedIn profile of George Damasco.\",\n",
    "        \"query\": \"SELECT * FROM linkedin_profiles JOIN advisors ON linkedin_profiles.advisor_id = advisors.id WHERE advisors.first_name = 'George' AND advisors.last_name = 'Damasco';\"\n",
    "    },\n",
    "    {\n",
    "        \"input\": \"List all advisors in Bellevue, WA.\",\n",
    "        \"query\": \"SELECT * FROM advisors WHERE city = 'Bellevue' AND state = 'WA';\"\n",
    "    },\n",
    "    {\n",
    "        \"input\": \"What are the previous broker-dealer and ria for Thomas Hoffman?\",\n",
    "        \"query\": \"SELECT previous_broker_dealer, previous_ria FROM advisors WHERE first_name = 'Thomas' AND last_name = 'Hoffman';\"\n",
    "    },\n",
    "    {\n",
    "        \"input\": \"How many years of experience does Stephen Bryars have?\",\n",
    "        \"query\": \"SELECT years_of_experience FROM advisors WHERE first_name = 'Stephen' AND last_name = 'Bryars';\"\n",
    "    },\n",
    "    {\n",
    "        \"input\": \"What licenses and exams does Douglas Gaines have?\",\n",
    "        \"query\": \"SELECT licenses_exams FROM advisors WHERE first_name = 'Douglas' AND last_name = 'Gaines';\"\n",
    "    },\n",
    "    {\n",
    "        \"input\": \"Find all LinkedIn profiles of advisors who are not open to work.\",\n",
    "        \"query\": \"SELECT * FROM linkedin_profiles WHERE isOpenToWork = FALSE;\"\n",
    "    },\n",
    "    {\n",
    "        \"input\": \"List all advisors who have worked for more than 10 years with their current broker-dealer.\",\n",
    "        \"query\": \"SELECT * FROM advisors WHERE years_with_current_bd > 10;\"\n",
    "    },\n",
    "    {\n",
    "        \"input\": \"What is the estimated age of James Myatt?\",\n",
    "        \"query\": \"SELECT est_age FROM advisors WHERE first_name = 'James' AND last_name = 'Myatt';\"\n",
    "    },\n",
    "    {\n",
    "        \"input\": \"How many advisors work in Florida?\",\n",
    "        \"query\": \"SELECT COUNT(*) FROM advisors WHERE state = 'FL';\"\n",
    "    },\n",
    "    {\n",
    "        \"input\": \"List all advisors who have a LinkedIn profile picture.\",\n",
    "        \"query\": \"SELECT * FROM linkedin_profiles WHERE profilePicture IS NOT NULL;\"\n",
    "    }\n",
    "]"
   ]
  },
  {
   "cell_type": "code",
   "execution_count": 27,
   "metadata": {},
   "outputs": [],
   "source": [
    "from langchain_core.prompts import FewShotPromptTemplate, PromptTemplate\n",
    "\n",
    "example_prompt = PromptTemplate.from_template(\"User input: {input}\\nSQL query: {query}\")\n",
    "prompt = FewShotPromptTemplate(\n",
    "    examples=examples[:5],\n",
    "    example_prompt=example_prompt,\n",
    "    prefix=\"You are a SQLite expert. Given an input question, create a syntactically correct SQLite query to run. Unless otherwise specificed, do not return more than {top_k} rows.\\n\\nHere is the relevant table info: {table_info}\\n\\nBelow are a number of examples of questions and their corresponding SQL queries.\",\n",
    "    suffix=\"User input: {input}\\nSQL query: \",\n",
    "    input_variables=[\"input\", \"top_k\", \"table_info\"],\n",
    ")"
   ]
  },
  {
   "cell_type": "code",
   "execution_count": 29,
   "metadata": {},
   "outputs": [
    {
     "name": "stdout",
     "output_type": "stream",
     "text": [
      "You are a SQLite expert. Given an input question, create a syntactically correct SQLite query to run. Unless otherwise specificed, do not return more than 1 rows.\n",
      "\n",
      "Here is the relevant table info: advisor\n",
      "\n",
      "Below are a number of examples of questions and their corresponding SQL queries.\n",
      "\n",
      "User input: Tell me more about Stephen Bryars?\n",
      "SQL query: SELECT * FROM advisors WHERE first_name = 'Stephen' AND last_name = 'Bryars';\n",
      "\n",
      "User input: What schools did Douglas Gaines go to?\n",
      "SQL query: SELECT linkedin_profiles.educations FROM linkedin_profiles JOIN advisors ON linkedin_profiles.advisor_id = advisors.id WHERE advisors.first_name = 'Douglas' AND advisors.last_name = 'Gaines';\n",
      "\n",
      "User input: Do they have any disclosure? If so, how recent and what was the dollar amount?\n",
      "SQL query: SELECT disclosures FROM brokercheck_data JOIN advisors ON brokercheck_data.advisor_id = advisors.id WHERE advisors.first_name = 'James' AND advisors.last_name = 'Myatt';\n",
      "\n",
      "User input: Who does James Myatt work for?\n",
      "SQL query: SELECT broker_dealer, ria FROM advisors WHERE first_name = 'James' AND last_name = 'Myatt';\n",
      "\n",
      "User input: How many people work at Stifel, Nicolaus & Company, Incorporated?\n",
      "SQL query: SELECT COUNT(*) FROM advisors WHERE firm_company_name = 'Stifel, Nicolaus & Company, Incorporated';\n",
      "\n",
      "User input: How many advisors are there?\n",
      "SQL query: \n"
     ]
    }
   ],
   "source": [
    "print(prompt.format(input=\"How many advisors are there?\", top_k=1, table_info=\"advisor\"))"
   ]
  },
  {
   "cell_type": "code",
   "execution_count": 33,
   "metadata": {},
   "outputs": [],
   "source": [
    "from langchain_community.vectorstores import FAISS\n",
    "from langchain_core.example_selectors import SemanticSimilarityExampleSelector\n",
    "from langchain_openai import OpenAIEmbeddings\n",
    "\n",
    "example_selector = SemanticSimilarityExampleSelector.from_examples(\n",
    "    examples,\n",
    "    OpenAIEmbeddings(),\n",
    "    FAISS,\n",
    "    k=5,\n",
    "    input_keys=[\"query\"],\n",
    ")"
   ]
  },
  {
   "cell_type": "code",
   "execution_count": null,
   "metadata": {},
   "outputs": [],
   "source": []
  },
  {
   "cell_type": "code",
   "execution_count": null,
   "metadata": {},
   "outputs": [],
   "source": []
  },
  {
   "cell_type": "code",
   "execution_count": 36,
   "metadata": {},
   "outputs": [
    {
     "data": {
      "text/plain": [
       "\"```sql\\nSELECT linkedin_profiles.educations \\nFROM linkedin_profiles \\nJOIN advisors ON linkedin_profiles.advisor_id = advisors.id \\nWHERE advisors.first_name = 'Bill' AND advisors.last_name = 'Stropp';\\n```\""
      ]
     },
     "execution_count": 36,
     "metadata": {},
     "output_type": "execute_result"
    }
   ],
   "source": [
    "chain = create_sql_query_chain(llm, db, prompt)\n",
    "chain.invoke({\"question\": \"what school did Bill Stropp go to?\"})"
   ]
  },
  {
   "cell_type": "code",
   "execution_count": 37,
   "metadata": {},
   "outputs": [],
   "source": [
    "from langchain_core.output_parsers import StrOutputParser\n",
    "from langchain_core.prompts import ChatPromptTemplate\n",
    "\n",
    "system = \"\"\"Double check the user's {dialect} query for common mistakes, including:\n",
    "- Using NOT IN with NULL values\n",
    "- Using UNION when UNION ALL should have been used\n",
    "- Using BETWEEN for exclusive ranges\n",
    "- Data type mismatch in predicates\n",
    "- Properly quoting identifiers\n",
    "- Using the correct number of arguments for functions\n",
    "- Casting to the correct data type\n",
    "- Using the proper columns for joins\n",
    "\n",
    "If there are any of the above mistakes, rewrite the query.\n",
    "If there are no mistakes, just reproduce the original query with no further commentary.\n",
    "\n",
    "Output the final SQL query only.\"\"\"\n",
    "prompt = ChatPromptTemplate.from_messages(\n",
    "    [(\"system\", system), (\"human\", \"{query}\")]\n",
    ").partial(dialect=db.dialect)\n",
    "validation_chain = prompt | llm | StrOutputParser()\n",
    "\n",
    "full_chain = {\"query\": chain} | validation_chain"
   ]
  },
  {
   "cell_type": "code",
   "execution_count": 61,
   "metadata": {},
   "outputs": [
    {
     "name": "stdout",
     "output_type": "stream",
     "text": [
      "================================\u001b[1m System Message \u001b[0m================================\n",
      "\n",
      "You are a \u001b[33;1m\u001b[1;3m{dialect}\u001b[0m expert. Given an input question, create a syntactically correct \u001b[33;1m\u001b[1;3m{dialect}\u001b[0m query to run.\n",
      "Unless the user specifies in the question a specific number of examples to obtain, query for at most \u001b[33;1m\u001b[1;3m{top_k}\u001b[0m results using the LIMIT clause as per \u001b[33;1m\u001b[1;3m{dialect}\u001b[0m. You can order the results to return the most informative data in the database.\n",
      "Never query for all columns from a table. You must query only the columns that are needed to answer the question. Wrap each column name in double quotes (\") to denote them as delimited identifiers.\n",
      "Pay attention to use only the column names you can see in the tables below. Be careful to not query for columns that do not exist. Also, pay attention to which column is in which table.\n",
      "Pay attention to use date('now') function to get the current date, if the question involves \"today\".\n",
      "\n",
      "Only use the following tables:\n",
      "\u001b[33;1m\u001b[1;3m{table_info}\u001b[0m\n",
      "\n",
      "Write an initial draft of the query. Then double check the \u001b[33;1m\u001b[1;3m{dialect}\u001b[0m query for common mistakes, including:\n",
      "- Using NOT IN with NULL values\n",
      "- Using UNION when UNION ALL should have been used\n",
      "- Using BETWEEN for exclusive ranges\n",
      "- Data type mismatch in predicates\n",
      "- Properly quoting identifiers\n",
      "- Using the correct number of arguments for functions\n",
      "- Casting to the correct data type\n",
      "- Using the proper columns for joins\n",
      "\n",
      "Use format:\n",
      "\n",
      "First draft: <<FIRST_DRAFT_QUERY>>\n",
      "Final answer: <<FINAL_ANSWER_QUERY>>\n",
      "\n",
      "\n",
      "================================\u001b[1m Human Message \u001b[0m=================================\n",
      "\n",
      "\u001b[33;1m\u001b[1;3m{input}\u001b[0m\n"
     ]
    }
   ],
   "source": [
    "system = \"\"\"You are a {dialect} expert. Given an input question, create a syntactically correct {dialect} query to run.\n",
    "Unless the user specifies in the question a specific number of examples to obtain, query for at most {top_k} results using the LIMIT clause as per {dialect}. You can order the results to return the most informative data in the database.\n",
    "Never query for all columns from a table. You must query only the columns that are needed to answer the question. Wrap each column name in double quotes (\") to denote them as delimited identifiers.\n",
    "Pay attention to use only the column names you can see in the tables below. Be careful to not query for columns that do not exist. Also, pay attention to which column is in which table.\n",
    "Pay attention to use date('now') function to get the current date, if the question involves \"today\".\n",
    "\n",
    "Only use the following tables:\n",
    "{table_info}\n",
    "\n",
    "Write an initial draft of the query. Then double check the {dialect} query for common mistakes, including:\n",
    "- Using NOT IN with NULL values\n",
    "- Using UNION when UNION ALL should have been used\n",
    "- Using BETWEEN for exclusive ranges\n",
    "- Data type mismatch in predicates\n",
    "- Properly quoting identifiers\n",
    "- Using the correct number of arguments for functions\n",
    "- Casting to the correct data type\n",
    "- Using the proper columns for joins\n",
    "\n",
    "Use format:\n",
    "\n",
    "First draft: <<FIRST_DRAFT_QUERY>>\n",
    "Final answer: <<FINAL_ANSWER_QUERY>>\n",
    "\"\"\"\n",
    "prompt = ChatPromptTemplate.from_messages(\n",
    "    [(\"system\", system), (\"human\", \"{input}\")]\n",
    ").partial(dialect=db.dialect)\n",
    "\n",
    "\n",
    "def parse_final_answer(output: str) -> str:\n",
    "    return output.split(\"Final answer: \")[1]\n",
    "\n",
    "\n",
    "chain = create_sql_query_chain(llm, db, prompt=prompt) | parse_final_answer\n",
    "prompt.pretty_print()"
   ]
  },
  {
   "cell_type": "code",
   "execution_count": null,
   "metadata": {},
   "outputs": [],
   "source": [
    "query = chain.invoke(\n",
    "    {\n",
    "        \"question\": \"Who are the top 5 highest rated advisors?\"\n",
    "    }\n",
    ")\n",
    "print(query)"
   ]
  },
  {
   "cell_type": "code",
   "execution_count": 122,
   "metadata": {},
   "outputs": [],
   "source": [
    "def _modfify_message(query: str):\n",
    "\n",
    "    SQL_PREFIX = \"\"\"You are an agent designed to interact with a SQL database.\n",
    "    Given an input question, create a syntactically correct SQLite query to run, then look at the results of the query and return the answer.\n",
    "    Unless the user specifies a specific number of examples they wish to obtain, always limit your query to at most 5 results.\n",
    "    You can order the results by a relevant column to return the most interesting examples in the database.\n",
    "    Never query for all columns from a table. You must query only the columns that are needed to answer the question.\n",
    "    Pay attention to use only the column names you can see in the tables below. Be careful to not query for columns that do not exist. Also, pay attention to which column is in which table.\n",
    "    Pay attention to use date('now') function to get the current date, if the question involves \"today\".\n",
    "\n",
    "    Only use the following tables:\n",
    "    {table_names}\n",
    "\n",
    "    {table_info}\n",
    "    \n",
    "    Double check the {dialect} query for common mistakes, including:\n",
    "    - Using NOT IN with NULL values\n",
    "    - Using UNION when UNION ALL should have been used\n",
    "    - Using BETWEEN for exclusive ranges\n",
    "    - Data type mismatch in predicates\n",
    "    - Properly quoting identifiers\n",
    "    - Using the correct number of arguments for functions\n",
    "    - Casting to the correct data type\n",
    "    - Using the proper columns for joins\n",
    "\n",
    "    You have access to tools for interacting with the database.\n",
    "\n",
    "    Only use the below tools. Only use the information returned by the below tools to construct your final answer.\n",
    "    You MUST double check your query before executing it. If you get an error while executing a query, rewrite the query and try again.\n",
    "\n",
    "    DO NOT make any DML statements (INSERT, UPDATE, DELETE, DROP etc.) to the database.\n",
    "\n",
    "    To start you should ALWAYS look at the tables in the database to see what you can query.\n",
    "    Do NOT skip this step.\n",
    "    Then you should query the schema of the most relevant tables.\"\"\"\n",
    "\n",
    "    examples = example_selector.select_examples({\"input\": query})\n",
    "    x = [('human', f\"Use the following examples to guide yourself: \\n {examples}\")]\n",
    "    prompt = ChatPromptTemplate.from_messages(\n",
    "        [(\"system\", SQL_PREFIX), (\"placeholder\", \"{examples}\")]\n",
    "    )\n",
    "\n",
    "    prompt = prompt.invoke(\n",
    "        {\n",
    "            \"examples\": x,\n",
    "            \"table_info\": context[\"table_info\"],\n",
    "            \"table_names\": context[\"table_names\"],\n",
    "            \"dialect\": db.dialect,\n",
    "        }\n",
    "    ).to_messages()\n",
    "\n",
    "    return prompt"
   ]
  },
  {
   "cell_type": "code",
   "execution_count": 121,
   "metadata": {},
   "outputs": [
    {
     "data": {
      "text/plain": [
       "[SystemMessage(content='You are an agent designed to interact with a SQL database.\\n    Given an input question, create a syntactically correct SQLite query to run, then look at the results of the query and return the answer.\\n    Unless the user specifies a specific number of examples they wish to obtain, always limit your query to at most 5 results.\\n    You can order the results by a relevant column to return the most interesting examples in the database.\\n    Never query for all columns from a table. You must query only the columns that are needed to answer the question.\\n    Pay attention to use only the column names you can see in the tables below. Be careful to not query for columns that do not exist. Also, pay attention to which column is in which table.\\n    Pay attention to use date(\\'now\\') function to get the current date, if the question involves \"today\".\\n\\n    Only use the following tables:\\n    advisors, brokercheck_data, linkedin_profiles\\n\\n    \\nCREATE TABLE advisors (\\n\\tid INTEGER NOT NULL, \\n\\tcrd INTEGER, \\n\\tnpn FLOAT, \\n\\tfirst_name VARCHAR, \\n\\tmiddle_name VARCHAR, \\n\\tlast_name VARCHAR, \\n\\tother_names TEXT, \\n\\tteam FLOAT, \\n\\tbroker_dealer VARCHAR, \\n\\tbroker_dealer_crd VARCHAR, \\n\\tyears_with_current_bd VARCHAR, \\n\\tcurrent_bd_start_date VARCHAR, \\n\\tria VARCHAR, \\n\\tria_crd VARCHAR, \\n\\tyears_with_current_ria VARCHAR, \\n\\tcurrent_ria_state_date VARCHAR, \\n\\taddress VARCHAR, \\n\\tcity VARCHAR, \\n\\tstate VARCHAR, \\n\\tzip VARCHAR, \\n\\tmetro_area VARCHAR, \\n\\tlicenses_exams VARCHAR, \\n\\ttitle VARCHAR, \\n\\tdesignations VARCHAR, \\n\\tphone VARCHAR, \\n\\tphone_type VARCHAR, \\n\\tlinkedin VARCHAR, \\n\\temail_1 VARCHAR, \\n\\temail_2 VARCHAR, \\n\\temail_3 VARCHAR, \\n\\tpersonal_email VARCHAR, \\n\\tbio VARCHAR, \\n\\tyears_of_experience INTEGER, \\n\\test_age FLOAT, \\n\\tprevious_broker_dealer VARCHAR, \\n\\tprevious_ria VARCHAR, \\n\\tgender VARCHAR, \\n\\tteam_id INTEGER, \\n\\tperson_tag_role FLOAT, \\n\\tperson_tag_family VARCHAR, \\n\\tperson_tag_hobbies VARCHAR, \\n\\tperson_tag_expertise FLOAT, \\n\\tperson_tag_services VARCHAR, \\n\\tperson_tag_investments FLOAT, \\n\\tperson_tag_sports_teams VARCHAR, \\n\\tperson_tag_school VARCHAR, \\n\\tperson_tag_greek_life VARCHAR, \\n\\tperson_tag_military_status VARCHAR, \\n\\tperson_tag_faith_based_investing VARCHAR, \\n\\tfirm_tag_platform VARCHAR, \\n\\tfirm_tag_technology VARCHAR, \\n\\tfirm_tag_services VARCHAR, \\n\\tfirm_tag_investments VARCHAR, \\n\\tfirm_tag_custodian VARCHAR, \\n\\tfirm_tag_clients FLOAT, \\n\\tfirm_tag_crm VARCHAR, \\n\\tnotes FLOAT, \\n\\tprofile VARCHAR, \\n\\tsec_link VARCHAR, \\n\\tfinra_link VARCHAR, \\n\\tfirm_company_name VARCHAR, \\n\\tfirm_type VARCHAR, \\n\\tfirm_address VARCHAR, \\n\\tfirm_city VARCHAR, \\n\\tfirm_state VARCHAR, \\n\\tfirm_zip VARCHAR, \\n\\tfirm_phone VARCHAR, \\n\\tfirm_aum INTEGER, \\n\\tfirm_total_accounts INTEGER, \\n\\tfirm_custodians VARCHAR, \\n\\tfirm_total_employees FLOAT, \\n\\tfirm_ria_reps INTEGER, \\n\\tfirm_bd_reps FLOAT, \\n\\tfirm_form_13f VARCHAR, \\n\\tlines FLOAT, \\n\\tcarrier FLOAT, \\n\\tcompany FLOAT, \\n\\tinitial_appointment_date FLOAT, \\n\\tcaptive FLOAT, \\n\\tnum_of_carriers FLOAT, \\n\\tnum_of_lines FLOAT, \\n\\tnon_producing FLOAT, \\n\\tinsurance_years_of_experience FLOAT, \\n\\tPRIMARY KEY (id)\\n)\\n\\n/*\\n3 rows from advisors table:\\nid\\tcrd\\tnpn\\tfirst_name\\tmiddle_name\\tlast_name\\tother_names\\tteam\\tbroker_dealer\\tbroker_dealer_crd\\tyears_with_current_bd\\tcurrent_bd_start_date\\tria\\tria_crd\\tyears_with_current_ria\\tcurrent_ria_state_date\\taddress\\tcity\\tstate\\tzip\\tmetro_area\\tlicenses_exams\\ttitle\\tdesignations\\tphone\\tphone_type\\tlinkedin\\temail_1\\temail_2\\temail_3\\tpersonal_email\\tbio\\tyears_of_experience\\test_age\\tprevious_broker_dealer\\tprevious_ria\\tgender\\tteam_id\\tperson_tag_role\\tperson_tag_family\\tperson_tag_hobbies\\tperson_tag_expertise\\tperson_tag_services\\tperson_tag_investments\\tperson_tag_sports_teams\\tperson_tag_school\\tperson_tag_greek_life\\tperson_tag_military_status\\tperson_tag_faith_based_investing\\tfirm_tag_platform\\tfirm_tag_technology\\tfirm_tag_services\\tfirm_tag_investments\\tfirm_tag_custodian\\tfirm_tag_clients\\tfirm_tag_crm\\tnotes\\tprofile\\tsec_link\\tfinra_link\\tfirm_company_name\\tfirm_type\\tfirm_address\\tfirm_city\\tfirm_state\\tfirm_zip\\tfirm_phone\\tfirm_aum\\tfirm_total_accounts\\tfirm_custodians\\tfirm_total_employees\\tfirm_ria_reps\\tfirm_bd_reps\\tfirm_form_13f\\tlines\\tcarrier\\tcompany\\tinitial_appointment_date\\tcaptive\\tnum_of_carriers\\tnum_of_lines\\tnon_producing\\tinsurance_years_of_experience\\n1\\t1000034\\tNone\\tStephen\\tWendell\\tBryars\\tNone\\tNone\\tMml Investors Services, Llc\\t10409\\t7.077\\t2017-03-25\\tMml Investors Services, Llc\\t10409\\t7.077\\t2017-03-25\\t3 West Garden Street Suite 510\\tPensacola\\tFL\\t32502\\tPensacola-Ferry Pass-Brent, FL\\tSIE,Series 22,Series 6,Series 63,Series 65\\tInvestment Advisor Representative\\tNone\\tNone\\tNone\\tNone\\tsbryars@bryarsfinancialgroup.com\\tNone\\tNone\\tNone\\thttps://strategicfinancialpartners.com/our-team/stephenbryars\\t43\\tNone\\tMsi Financial Services, Inc.: 01/02/2015 - 03/25/2017, New England Securities: 08/10/1981 - 01/02/20\\tMsi Financial Services, Inc.: 01/02/2015 - 03/25/2017, New England Securities: 08/10/1981 - 01/02/20\\tmale\\t1092980425364\\tNone\\tNone\\tNone\\tNone\\tNone\\tNone\\tNone\\tNone\\tNone\\tNone\\tNone\\teMoney,SEI Investments,Black Diamond,Assetmark,Brinker Capital,Envestnet\\tNitrogen (Riskalyze),Smarsh,Carta,Broadridge,Factset,DocuSign,SmartAsset,FMG Suite,Calendly,RightCap\\tFinancial Planning,Estate Planning,Tax Planning,Portfolio Construction,Asset Management,Insurance,In\\tAlternative Investments\\tPershing,TD Ameritrade,Charles Schwab,Fidelity\\tNone\\tSalesforce,Hubspot\\tNone\\thttps://app.planprofessional.com/advisor/person/1000034\\thttps://adviserinfo.sec.gov/individual/summary/1000034\\thttps://brokercheck.finra.org/individual/summary/1000034\\tMML INVESTORS SERVICES, LLC\\tIndependent RIA, Broker-Dealer\\t1295 State Street\\tSpringfield\\tMA\\t01111\\t(413)737-8400\\t72827710537\\t351645\\tFIDELITY/NFS\\t7130.0\\t7011\\t7130.0\\tYes\\tNone\\tNone\\tNone\\tNone\\tNone\\tNone\\tNone\\tNone\\tNone\\n2\\t1000059\\tNone\\tDouglas\\tPendleton\\tGaines\\tNone\\tNone\\tStifel, Nicolaus & Company, Incorporated\\t793\\t16.611\\t2007-09-14\\tStifel, Nicolaus & Company, Incorporated\\t793\\t16.611\\t2007-09-14\\t10400 Northeast 4th Street, Suite 2000\\tBellevue\\tWA\\t98004\\tSeattle-Tacoma-Bellevue, WA\\tSIE,Series 3,Series 63,Series 66,Series 7,Series 8\\tFinancial Advisor\\tNone\\t4256373600\\tlandline\\tNone\\tgainesd@stifel.com\\tNone\\tNone\\tNone\\thttp://www.stifel.com/fa/doug-gaines-crpc\\t43\\tNone\\tA. G. Edwards & Sons, Inc.: 07/25/1989 - 09/19/2007, Shearson Lehman Hutton Inc.: 02/15/1988 - 08/21\\tNone\\tmale\\t114476452709\\tNone\\tNone\\tNone\\tNone\\tNone\\tNone\\tNone\\tNone\\tNone\\tNone\\tNone\\teMoney,Adhesion Wealth,Envestnet\\tFactset,FMG Suite,Zacks,Addepar,Broadridge,Global Relay,Smarsh,DocuSign\\tAsset Management,Tax Planning,Insurance,Wealth Planning,Portfolio Construction,Life Insurance,Retire\\tAlternative Investments\\tPershing,Charles Schwab\\tNone\\tSalesforce\\tNone\\thttps://app.planprofessional.com/advisor/person/1000059\\thttps://adviserinfo.sec.gov/individual/summary/1000059\\thttps://brokercheck.finra.org/individual/summary/1000059\\tSTIFEL, NICOLAUS & COMPANY, INCORPORATED\\tIndependent RIA, Broker-Dealer\\t501 North Broadway\\tSt. Louis\\tMO\\t63102\\t314-342-2000\\t149248936163\\t348524\\tBARCLAYS,CHARLES SCHWAB & COMPANY,PERSHING,STIFEL\\t6534.0\\t3271\\t5160.0\\tNo\\tNone\\tNone\\tNone\\tNone\\tNone\\tNone\\tNone\\tNone\\tNone\\n3\\t1000072\\tNone\\tJames\\tStephen\\tMyatt\\tJames Stephen Myatt, James S Myatt, James S. Myatt, Steve Myatt\\tNone\\tStifel, Nicolaus & Company, Incorporated\\t793\\t7.529\\t2016-10-11\\tStifel, Nicolaus & Company, Incorporated\\t793\\t7.529\\t2016-10-11\\t1200 West Highway 6 Suite 3\\tWaco\\tTX\\t76712\\tWaco, TX\\tSIE,Series 10,Series 4,Series 53,Series 63,Series 65,Series 7,Series 8,Series 9\\tSenior Manager\\tNone\\t2543997450\\tlandline\\tNone\\tmyattj@stifel.com\\tNone\\tNone\\tNone\\tNone\\t43\\tNone\\tWells Fargo Advisors, Llc: 08/21/2008 - 10/12/2016, Ubs Financial Services Inc.: 01/01/1991 - 09/17/\\tWells Fargo Advisors, Llc: 08/21/2008 - 10/12/2016, Ubs Financial Services Inc.: 01/01/1991 - 09/17/\\tmale\\t5765251462\\tNone\\tNone\\tNone\\tNone\\tNone\\tNone\\tNone\\tNone\\tNone\\tNone\\tNone\\teMoney,Adhesion Wealth,Envestnet\\tFactset,FMG Suite,Zacks,Addepar,Broadridge,Global Relay,Smarsh,DocuSign\\tAsset Management,Tax Planning,Insurance,Wealth Planning,Portfolio Construction,Life Insurance,Retire\\tAlternative Investments\\tPershing,Charles Schwab\\tNone\\tSalesforce\\tNone\\thttps://app.planprofessional.com/advisor/person/1000072\\thttps://adviserinfo.sec.gov/individual/summary/1000072\\thttps://brokercheck.finra.org/individual/summary/1000072\\tSTIFEL, NICOLAUS & COMPANY, INCORPORATED\\tIndependent RIA, Broker-Dealer\\t501 North Broadway\\tSt. Louis\\tMO\\t63102\\t314-342-2000\\t149248936163\\t348524\\tBARCLAYS,CHARLES SCHWAB & COMPANY,PERSHING,STIFEL\\t6534.0\\t3271\\t5160.0\\tNo\\tNone\\tNone\\tNone\\tNone\\tNone\\tNone\\tNone\\tNone\\tNone\\n*/\\n\\n\\nCREATE TABLE brokercheck_data (\\n\\tid INTEGER NOT NULL, \\n\\tadvisor_id INTEGER, \\n\\tdisclosures JSON, \\n\\ttimeline JSON, \\n\\texams JSON, \\n\\tstate_registrations JSON, \\n\\tsro_registrations JSON, \\n\\tcurrent_registrations JSON, \\n\\tprevious_registrations JSON, \\n\\tPRIMARY KEY (id), \\n\\tFOREIGN KEY(advisor_id) REFERENCES advisors (id)\\n)\\n\\n/*\\n3 rows from brokercheck_data table:\\nid\\tadvisor_id\\tdisclosures\\ttimeline\\texams\\tstate_registrations\\tsro_registrations\\tcurrent_registrations\\tprevious_registrations\\n1\\t4\\t0\\t[{\\'firm\\': \\'FIRST COMMAND ADVISORY SERVICES (CRD# 281958)\\', \\'years\\': \\'2015 - Present (8 years)\\'}, {\\'f\\t[{\\'category\\': \\'State Securities Law Exam\\', \\'exams\\': [{\\'name\\': \\'Series 65 - Uniform Investment Advise\\t[]\\t[\\'FINRA\\']\\t[{\\'firm_name\\': \\'FIRST COMMAND BROKERAGE SERVICES, INC. (CRD#:3641)\\', \\'crd_number\\': \\'3641\\', \\'address\\'\\t[{\\'as_a\\': \\'Investment Advisor\\', \\'registration_period\\': \\'08/20/2008 - 12/15/2015\\', \\'firm_name\\': \\'FIRS\\n2\\t5\\t1\\t[{\\'firm\\': \\'EPLANNING SECURITIES, INC. (CRD# 46000)\\', \\'years\\': \\'2007 - 2007 (<1 year)\\'}, {\\'firm\\': \\'NF\\t[{\\'category\\': \\'State Securities Law Exam\\', \\'exams\\': [{\\'name\\': \\'Series 65 - Uniform Investment Advise\\t[]\\t[]\\t[]\\t[{\\'as_a\\': \\'Broker\\', \\'registration_period\\': \\'03/06/2007 - 09/26/2007\\', \\'firm_name\\': \\'EPLANNING SECURI\\n3\\t6\\t0\\t[{\\'firm\\': \\'2 FIRMS\\', \\'years\\': \\'2010 - 2017 (7 years)\\'}, {\\'firm\\': \\'RBA WEALTH MANAGEMENT, LLC (CRD# 2\\t[{\\'category\\': \\'State Securities Law Exam\\', \\'exams\\': [{\\'name\\': \\'Series 66 - Uniform Combined State La\\t[]\\t[\\'FINRA\\']\\t[{\\'firm_name\\': \\'PURSHE KAPLAN STERLING INVESTMENTS (CRD#:35747)\\', \\'crd_number\\': \\'35747\\', \\'address\\': \\t[{\\'as_a\\': \\'Investment Advisor\\', \\'registration_period\\': \\'11/03/2017 - 01/03/2018\\', \\'firm_name\\': \\'N/A\\'\\n*/\\n\\n\\nCREATE TABLE linkedin_profiles (\\n\\turn VARCHAR NOT NULL, \\n\\tadvisor_id INTEGER, \\n\\tusername VARCHAR, \\n\\t\"firstName\" VARCHAR, \\n\\t\"lastName\" VARCHAR, \\n\\t\"isCreator\" BOOLEAN, \\n\\t\"isOpenToWork\" BOOLEAN, \\n\\t\"isHiring\" BOOLEAN, \\n\\t\"profilePicture\" VARCHAR, \\n\\t\"backgroundImage\" JSON, \\n\\tsummary TEXT, \\n\\theadline VARCHAR, \\n\\tgeo JSON, \\n\\tlanguages JSON, \\n\\teducations JSON, \\n\\tposition JSON, \\n\\t\"fullPositions\" JSON, \\n\\tskills JSON, \\n\\tcourses JSON, \\n\\tcertifications JSON, \\n\\thonors JSON, \\n\\tprojects JSON, \\n\\tvolunteering JSON, \\n\\tPRIMARY KEY (urn), \\n\\tFOREIGN KEY(advisor_id) REFERENCES advisors (id)\\n)\\n\\n/*\\n3 rows from linkedin_profiles table:\\nurn\\tadvisor_id\\tusername\\tfirstName\\tlastName\\tisCreator\\tisOpenToWork\\tisHiring\\tprofilePicture\\tbackgroundImage\\tsummary\\theadline\\tgeo\\tlanguages\\teducations\\tposition\\tfullPositions\\tskills\\tcourses\\tcertifications\\thonors\\tprojects\\tvolunteering\\nACoAAAQjPjABHZr3KkdKb3cae3wIV3kao2WV2jg\\t4\\tbillstropp\\tBill\\tStropp\\tFalse\\tFalse\\tFalse\\thttps://media.licdn.com/dms/image/C4D03AQGN35_EF9t7bw/profile-displayphoto-shrink_800_800/0/15168656\\t[{\\'width\\': 400, \\'height\\': 100, \\'url\\': \\'https://media.licdn.com/dms/image/C4E16AQGUGdSosuQfLg/profile\\tAssisting existing clients and creating new clients for First Command Financial Services in Central \\tFinancial Advisor and Principal at First Command Financial Services, Inc.\\t{\\'country\\': \\'United States\\', \\'city\\': \\'Lady Lake, Florida\\', \\'full\\': \\'Lady Lake, Florida, United State\\tNone\\t[{\\'start\\': {\\'year\\': 1969, \\'month\\': 0, \\'day\\': 0}, \\'end\\': {\\'year\\': 1973, \\'month\\': 0, \\'day\\': 0}, \\'field\\t[{\\'companyName\\': \\'First Command Financial Services, Inc.\\', \\'companyUsername\\': \\'first-command-financi\\t[{\\'companyName\\': \\'First Command Financial Services, Inc.\\', \\'companyUsername\\': \\'first-command-financi\\t[{\\'name\\': \\'Financial Planning\\', \\'passedSkillAssessment\\': False}, {\\'name\\': \\'Investments\\', \\'passedSkil\\tNone\\tNone\\t[{\\'title\\': \\'Regional Recruiter of the Year\\', \\'description\\': \\'1998\\', \\'issuer\\': \\'First Command Financi\\t{\\'total\\': 0, \\'items\\': None}\\tNone\\nACoAABeQY5UB6Z0_AMgRXSNppl4U4Hl9ICFKlyI\\t5\\tgeorge-t-damasco-b31493b0\\tGeorge T.\\tDamasco\\tFalse\\tFalse\\tFalse\\thttps://media.licdn.com/dms/image/D5603AQGyw6Rb2hgcBw/profile-displayphoto-shrink_800_800/0/16861547\\t[{\\'width\\': 800, \\'height\\': 199, \\'url\\': \\'https://media.licdn.com/dms/image/D5616AQH2JYymzNk-Eg/profile\\tAt MPM Wealth Advisors, we know you want to be excited about retirement. To do that, you need to mak\\tPartner @ MPM Wealth Advisors\\t{\\'country\\': \\'United States\\', \\'city\\': \\'Holland, Ohio\\', \\'full\\': \\'Holland, Ohio, United States\\'}\\t[{\\'name\\': \\'English\\', \\'proficiency\\': \\'\\'}]\\t[{\\'start\\': {\\'year\\': 2004, \\'month\\': 0, \\'day\\': 0}, \\'end\\': {\\'year\\': 2008, \\'month\\': 0, \\'day\\': 0}, \\'field\\t[{\\'companyName\\': \\'MPM Wealth Advisors\\', \\'companyUsername\\': \\'mpm-wealth-advisors\\', \\'companyURL\\': \\'htt\\t[{\\'companyName\\': \\'MPM Wealth Advisors\\', \\'companyUsername\\': \\'mpm-wealth-advisors\\', \\'companyURL\\': \\'htt\\t[{\\'name\\': \\'Investments\\', \\'passedSkillAssessment\\': False}, {\\'name\\': \\'Portfolio Management\\', \\'passedSk\\tNone\\tNone\\tNone\\t{\\'total\\': 0, \\'items\\': None}\\t[{\\'title\\': \\'President, Vice President, Sgt at Arms, President of Board\\', \\'start\\': {\\'year\\': 2007, \\'mo\\nACoAAA-cuJwBjUYsUsaEOYUA459U8LGKQa_kefs\\t6\\tthomas-hoffman-42487773\\tThomas\\tHoffman\\tFalse\\tFalse\\tFalse\\t\\t[{\\'width\\': 800, \\'height\\': 200, \\'url\\': \\'https://media.licdn.com/dms/image/C5616AQF33h-UOBXGuw/profile\\tI began working with Principal Financial in 2022. As a financial professional, my goal is to listen \\tFinancial Representative, Principal Securities Registered Representative, Financial Advisor at Princ\\t{\\'country\\': \\'United States\\', \\'city\\': \\'Greater Minneapolis-St. Paul Area\\', \\'full\\': \\'Greater Minneapol\\t[{\\'name\\': \\'English\\', \\'proficiency\\': \\'NATIVE_OR_BILINGUAL\\'}, {\\'name\\': \\'German\\', \\'proficiency\\': \\'LIMIT\\t[{\\'start\\': {\\'year\\': 2012, \\'month\\': 0, \\'day\\': 0}, \\'end\\': {\\'year\\': 2016, \\'month\\': 0, \\'day\\': 0}, \\'field\\t[{\\'companyName\\': \\'Principal Financial Group\\', \\'companyUsername\\': \\'principalfinancialgroup\\', \\'company\\t[{\\'companyName\\': \\'Principal Financial Group\\', \\'companyUsername\\': \\'principalfinancialgroup\\', \\'company\\t[{\\'name\\': \\'Retirement Planning\\', \\'passedSkillAssessment\\': False}]\\tNone\\tNone\\tNone\\t{\\'total\\': 0, \\'items\\': None}\\tNone\\n*/\\n    \\n    Double check the sqlite query for common mistakes, including:\\n    - Using NOT IN with NULL values\\n    - Using UNION when UNION ALL should have been used\\n    - Using BETWEEN for exclusive ranges\\n    - Data type mismatch in predicates\\n    - Properly quoting identifiers\\n    - Using the correct number of arguments for functions\\n    - Casting to the correct data type\\n    - Using the proper columns for joins\\n\\n    You have access to tools for interacting with the database.\\n\\n    Only use the below tools. Only use the information returned by the below tools to construct your final answer.\\n    You MUST double check your query before executing it. If you get an error while executing a query, rewrite the query and try again.\\n\\n    DO NOT make any DML statements (INSERT, UPDATE, DELETE, DROP etc.) to the database.\\n\\n    To start you should ALWAYS look at the tables in the database to see what you can query.\\n    Do NOT skip this step.\\n    Then you should query the schema of the most relevant tables.'),\n",
       " HumanMessage(content='User the following examples to guide yourself: \\n [{\\'input\\': \\'How many advisors work in Florida?\\', \\'query\\': \"SELECT COUNT(*) FROM advisors WHERE state = \\'FL\\';\"}, {\\'input\\': \\'List all advisors who have worked for more than 10 years with their current broker-dealer.\\', \\'query\\': \\'SELECT * FROM advisors WHERE years_with_current_bd > 10;\\'}, {\\'input\\': \\'List all advisors in Bellevue, WA.\\', \\'query\\': \"SELECT * FROM advisors WHERE city = \\'Bellevue\\' AND state = \\'WA\\';\"}, {\\'input\\': \\'List all advisors who have a LinkedIn profile picture.\\', \\'query\\': \\'SELECT * FROM linkedin_profiles WHERE profilePicture IS NOT NULL;\\'}, {\\'input\\': \\'Find all LinkedIn profiles of advisors who are not open to work.\\', \\'query\\': \\'SELECT * FROM linkedin_profiles WHERE isOpenToWork = FALSE;\\'}]')]"
      ]
     },
     "execution_count": 121,
     "metadata": {},
     "output_type": "execute_result"
    }
   ],
   "source": [
    "_modfify_message(\"how many advisors\")"
   ]
  },
  {
   "cell_type": "code",
   "execution_count": 49,
   "metadata": {},
   "outputs": [],
   "source": [
    "from langchain_community.agent_toolkits import SQLDatabaseToolkit\n",
    "\n",
    "llm = ChatOpenAI(model=\"gpt-4o\")\n",
    "toolkit = SQLDatabaseToolkit(db=db, llm=llm)\n",
    "tools = toolkit.get_tools()"
   ]
  },
  {
   "cell_type": "code",
   "execution_count": 123,
   "metadata": {},
   "outputs": [],
   "source": [
    "memory = SqliteSaver.from_conn_string(\":memory:\")\n",
    "agent_executor = create_react_agent(llm, tools, messages_modifier=_modfify_message, checkpointer=memory)"
   ]
  },
  {
   "cell_type": "code",
   "execution_count": 126,
   "metadata": {},
   "outputs": [],
   "source": [
    "def ask(query, config):\n",
    "    return agent_executor.invoke( {\"messages\": query}, config)"
   ]
  },
  {
   "cell_type": "code",
   "execution_count": 127,
   "metadata": {},
   "outputs": [
    {
     "ename": "TypeError",
     "evalue": "sequence item 0: expected str instance, list found",
     "output_type": "error",
     "traceback": [
      "\u001b[0;31m---------------------------------------------------------------------------\u001b[0m",
      "\u001b[0;31mTypeError\u001b[0m                                 Traceback (most recent call last)",
      "Cell \u001b[0;32mIn[127], line 7\u001b[0m\n\u001b[1;32m      1\u001b[0m question \u001b[38;5;241m=\u001b[39m \u001b[38;5;124m\"\u001b[39m\u001b[38;5;124mTell me about billstroop?\u001b[39m\u001b[38;5;124m\"\u001b[39m\n\u001b[1;32m      2\u001b[0m config \u001b[38;5;241m=\u001b[39m {\n\u001b[1;32m      3\u001b[0m     \u001b[38;5;124m\"\u001b[39m\u001b[38;5;124mconfigurable\u001b[39m\u001b[38;5;124m\"\u001b[39m: {\n\u001b[1;32m      4\u001b[0m         \u001b[38;5;124m\"\u001b[39m\u001b[38;5;124mthread_id\u001b[39m\u001b[38;5;124m\"\u001b[39m: \u001b[38;5;241m1434\u001b[39m,\n\u001b[1;32m      5\u001b[0m     }\n\u001b[1;32m      6\u001b[0m }\n\u001b[0;32m----> 7\u001b[0m res \u001b[38;5;241m=\u001b[39m \u001b[43mask\u001b[49m\u001b[43m(\u001b[49m\u001b[43mquestion\u001b[49m\u001b[43m,\u001b[49m\u001b[43m \u001b[49m\u001b[43mconfig\u001b[49m\u001b[43m)\u001b[49m\n\u001b[1;32m      8\u001b[0m \u001b[38;5;28mprint\u001b[39m(res[\u001b[38;5;124m\"\u001b[39m\u001b[38;5;124mmessages\u001b[39m\u001b[38;5;124m\"\u001b[39m][\u001b[38;5;241m-\u001b[39m\u001b[38;5;241m1\u001b[39m])\n",
      "Cell \u001b[0;32mIn[126], line 2\u001b[0m, in \u001b[0;36mask\u001b[0;34m(query, config)\u001b[0m\n\u001b[1;32m      1\u001b[0m \u001b[38;5;28;01mdef\u001b[39;00m \u001b[38;5;21mask\u001b[39m(query, config):\n\u001b[0;32m----> 2\u001b[0m     \u001b[38;5;28;01mreturn\u001b[39;00m \u001b[43magent_executor\u001b[49m\u001b[38;5;241;43m.\u001b[39;49m\u001b[43minvoke\u001b[49m\u001b[43m(\u001b[49m\u001b[43m \u001b[49m\u001b[43m{\u001b[49m\u001b[38;5;124;43m\"\u001b[39;49m\u001b[38;5;124;43mmessages\u001b[39;49m\u001b[38;5;124;43m\"\u001b[39;49m\u001b[43m:\u001b[49m\u001b[43m \u001b[49m\u001b[43mquery\u001b[49m\u001b[43m}\u001b[49m\u001b[43m,\u001b[49m\u001b[43m \u001b[49m\u001b[43mconfig\u001b[49m\u001b[43m)\u001b[49m\n",
      "File \u001b[0;32m~/.pyenv/versions/3.11.2/envs/ai_task/lib/python3.11/site-packages/langgraph/pregel/__init__.py:1554\u001b[0m, in \u001b[0;36mPregel.invoke\u001b[0;34m(self, input, config, stream_mode, output_keys, input_keys, interrupt_before, interrupt_after, debug, **kwargs)\u001b[0m\n\u001b[1;32m   1552\u001b[0m \u001b[38;5;28;01melse\u001b[39;00m:\n\u001b[1;32m   1553\u001b[0m     chunks \u001b[38;5;241m=\u001b[39m []\n\u001b[0;32m-> 1554\u001b[0m \u001b[43m\u001b[49m\u001b[38;5;28;43;01mfor\u001b[39;49;00m\u001b[43m \u001b[49m\u001b[43mchunk\u001b[49m\u001b[43m \u001b[49m\u001b[38;5;129;43;01min\u001b[39;49;00m\u001b[43m \u001b[49m\u001b[38;5;28;43mself\u001b[39;49m\u001b[38;5;241;43m.\u001b[39;49m\u001b[43mstream\u001b[49m\u001b[43m(\u001b[49m\n\u001b[1;32m   1555\u001b[0m \u001b[43m    \u001b[49m\u001b[38;5;28;43minput\u001b[39;49m\u001b[43m,\u001b[49m\n\u001b[1;32m   1556\u001b[0m \u001b[43m    \u001b[49m\u001b[43mconfig\u001b[49m\u001b[43m,\u001b[49m\n\u001b[1;32m   1557\u001b[0m \u001b[43m    \u001b[49m\u001b[43mstream_mode\u001b[49m\u001b[38;5;241;43m=\u001b[39;49m\u001b[43mstream_mode\u001b[49m\u001b[43m,\u001b[49m\n\u001b[1;32m   1558\u001b[0m \u001b[43m    \u001b[49m\u001b[43moutput_keys\u001b[49m\u001b[38;5;241;43m=\u001b[39;49m\u001b[43moutput_keys\u001b[49m\u001b[43m,\u001b[49m\n\u001b[1;32m   1559\u001b[0m \u001b[43m    \u001b[49m\u001b[43minput_keys\u001b[49m\u001b[38;5;241;43m=\u001b[39;49m\u001b[43minput_keys\u001b[49m\u001b[43m,\u001b[49m\n\u001b[1;32m   1560\u001b[0m \u001b[43m    \u001b[49m\u001b[43minterrupt_before\u001b[49m\u001b[38;5;241;43m=\u001b[39;49m\u001b[43minterrupt_before\u001b[49m\u001b[43m,\u001b[49m\n\u001b[1;32m   1561\u001b[0m \u001b[43m    \u001b[49m\u001b[43minterrupt_after\u001b[49m\u001b[38;5;241;43m=\u001b[39;49m\u001b[43minterrupt_after\u001b[49m\u001b[43m,\u001b[49m\n\u001b[1;32m   1562\u001b[0m \u001b[43m    \u001b[49m\u001b[43mdebug\u001b[49m\u001b[38;5;241;43m=\u001b[39;49m\u001b[43mdebug\u001b[49m\u001b[43m,\u001b[49m\n\u001b[1;32m   1563\u001b[0m \u001b[43m    \u001b[49m\u001b[38;5;241;43m*\u001b[39;49m\u001b[38;5;241;43m*\u001b[39;49m\u001b[43mkwargs\u001b[49m\u001b[43m,\u001b[49m\n\u001b[1;32m   1564\u001b[0m \u001b[43m\u001b[49m\u001b[43m)\u001b[49m\u001b[43m:\u001b[49m\n\u001b[1;32m   1565\u001b[0m \u001b[43m    \u001b[49m\u001b[38;5;28;43;01mif\u001b[39;49;00m\u001b[43m \u001b[49m\u001b[43mstream_mode\u001b[49m\u001b[43m \u001b[49m\u001b[38;5;241;43m==\u001b[39;49m\u001b[43m \u001b[49m\u001b[38;5;124;43m\"\u001b[39;49m\u001b[38;5;124;43mvalues\u001b[39;49m\u001b[38;5;124;43m\"\u001b[39;49m\u001b[43m:\u001b[49m\n\u001b[1;32m   1566\u001b[0m \u001b[43m        \u001b[49m\u001b[43mlatest\u001b[49m\u001b[43m \u001b[49m\u001b[38;5;241;43m=\u001b[39;49m\u001b[43m \u001b[49m\u001b[43mchunk\u001b[49m\n",
      "File \u001b[0;32m~/.pyenv/versions/3.11.2/envs/ai_task/lib/python3.11/site-packages/langgraph/pregel/__init__.py:1073\u001b[0m, in \u001b[0;36mPregel.stream\u001b[0;34m(self, input, config, stream_mode, output_keys, input_keys, interrupt_before, interrupt_after, debug)\u001b[0m\n\u001b[1;32m   1070\u001b[0m         \u001b[38;5;28;01mdel\u001b[39;00m fut, task\n\u001b[1;32m   1072\u001b[0m \u001b[38;5;66;03m# panic on failure or timeout\u001b[39;00m\n\u001b[0;32m-> 1073\u001b[0m \u001b[43m_panic_or_proceed\u001b[49m\u001b[43m(\u001b[49m\u001b[43mdone\u001b[49m\u001b[43m,\u001b[49m\u001b[43m \u001b[49m\u001b[43minflight\u001b[49m\u001b[43m,\u001b[49m\u001b[43m \u001b[49m\u001b[43mstep\u001b[49m\u001b[43m)\u001b[49m\n\u001b[1;32m   1074\u001b[0m \u001b[38;5;66;03m# don't keep futures around in memory longer than needed\u001b[39;00m\n\u001b[1;32m   1075\u001b[0m \u001b[38;5;28;01mdel\u001b[39;00m done, inflight, futures\n",
      "File \u001b[0;32m~/.pyenv/versions/3.11.2/envs/ai_task/lib/python3.11/site-packages/langgraph/pregel/__init__.py:1643\u001b[0m, in \u001b[0;36m_panic_or_proceed\u001b[0;34m(done, inflight, step)\u001b[0m\n\u001b[1;32m   1641\u001b[0m             inflight\u001b[38;5;241m.\u001b[39mpop()\u001b[38;5;241m.\u001b[39mcancel()\n\u001b[1;32m   1642\u001b[0m         \u001b[38;5;66;03m# raise the exception\u001b[39;00m\n\u001b[0;32m-> 1643\u001b[0m         \u001b[38;5;28;01mraise\u001b[39;00m exc\n\u001b[1;32m   1645\u001b[0m \u001b[38;5;28;01mif\u001b[39;00m inflight:\n\u001b[1;32m   1646\u001b[0m     \u001b[38;5;66;03m# if we got here means we timed out\u001b[39;00m\n\u001b[1;32m   1647\u001b[0m     \u001b[38;5;28;01mwhile\u001b[39;00m inflight:\n\u001b[1;32m   1648\u001b[0m         \u001b[38;5;66;03m# cancel all pending tasks\u001b[39;00m\n",
      "File \u001b[0;32m~/.pyenv/versions/3.11.2/lib/python3.11/concurrent/futures/thread.py:58\u001b[0m, in \u001b[0;36m_WorkItem.run\u001b[0;34m(self)\u001b[0m\n\u001b[1;32m     55\u001b[0m     \u001b[38;5;28;01mreturn\u001b[39;00m\n\u001b[1;32m     57\u001b[0m \u001b[38;5;28;01mtry\u001b[39;00m:\n\u001b[0;32m---> 58\u001b[0m     result \u001b[38;5;241m=\u001b[39m \u001b[38;5;28;43mself\u001b[39;49m\u001b[38;5;241;43m.\u001b[39;49m\u001b[43mfn\u001b[49m\u001b[43m(\u001b[49m\u001b[38;5;241;43m*\u001b[39;49m\u001b[38;5;28;43mself\u001b[39;49m\u001b[38;5;241;43m.\u001b[39;49m\u001b[43margs\u001b[49m\u001b[43m,\u001b[49m\u001b[43m \u001b[49m\u001b[38;5;241;43m*\u001b[39;49m\u001b[38;5;241;43m*\u001b[39;49m\u001b[38;5;28;43mself\u001b[39;49m\u001b[38;5;241;43m.\u001b[39;49m\u001b[43mkwargs\u001b[49m\u001b[43m)\u001b[49m\n\u001b[1;32m     59\u001b[0m \u001b[38;5;28;01mexcept\u001b[39;00m \u001b[38;5;167;01mBaseException\u001b[39;00m \u001b[38;5;28;01mas\u001b[39;00m exc:\n\u001b[1;32m     60\u001b[0m     \u001b[38;5;28mself\u001b[39m\u001b[38;5;241m.\u001b[39mfuture\u001b[38;5;241m.\u001b[39mset_exception(exc)\n",
      "File \u001b[0;32m~/.pyenv/versions/3.11.2/envs/ai_task/lib/python3.11/site-packages/langgraph/pregel/retry.py:72\u001b[0m, in \u001b[0;36mrun_with_retry\u001b[0;34m(task, retry_policy)\u001b[0m\n\u001b[1;32m     70\u001b[0m task\u001b[38;5;241m.\u001b[39mwrites\u001b[38;5;241m.\u001b[39mclear()\n\u001b[1;32m     71\u001b[0m \u001b[38;5;66;03m# run the task\u001b[39;00m\n\u001b[0;32m---> 72\u001b[0m \u001b[43mtask\u001b[49m\u001b[38;5;241;43m.\u001b[39;49m\u001b[43mproc\u001b[49m\u001b[38;5;241;43m.\u001b[39;49m\u001b[43minvoke\u001b[49m\u001b[43m(\u001b[49m\u001b[43mtask\u001b[49m\u001b[38;5;241;43m.\u001b[39;49m\u001b[43minput\u001b[49m\u001b[43m,\u001b[49m\u001b[43m \u001b[49m\u001b[43mtask\u001b[49m\u001b[38;5;241;43m.\u001b[39;49m\u001b[43mconfig\u001b[49m\u001b[43m)\u001b[49m\n\u001b[1;32m     73\u001b[0m \u001b[38;5;66;03m# if successful, end\u001b[39;00m\n\u001b[1;32m     74\u001b[0m \u001b[38;5;28;01mbreak\u001b[39;00m\n",
      "File \u001b[0;32m~/.pyenv/versions/3.11.2/envs/ai_task/lib/python3.11/site-packages/langchain_core/runnables/base.py:2505\u001b[0m, in \u001b[0;36mRunnableSequence.invoke\u001b[0;34m(self, input, config, **kwargs)\u001b[0m\n\u001b[1;32m   2501\u001b[0m config \u001b[38;5;241m=\u001b[39m patch_config(\n\u001b[1;32m   2502\u001b[0m     config, callbacks\u001b[38;5;241m=\u001b[39mrun_manager\u001b[38;5;241m.\u001b[39mget_child(\u001b[38;5;124mf\u001b[39m\u001b[38;5;124m\"\u001b[39m\u001b[38;5;124mseq:step:\u001b[39m\u001b[38;5;132;01m{\u001b[39;00mi\u001b[38;5;241m+\u001b[39m\u001b[38;5;241m1\u001b[39m\u001b[38;5;132;01m}\u001b[39;00m\u001b[38;5;124m\"\u001b[39m)\n\u001b[1;32m   2503\u001b[0m )\n\u001b[1;32m   2504\u001b[0m \u001b[38;5;28;01mif\u001b[39;00m i \u001b[38;5;241m==\u001b[39m \u001b[38;5;241m0\u001b[39m:\n\u001b[0;32m-> 2505\u001b[0m     \u001b[38;5;28minput\u001b[39m \u001b[38;5;241m=\u001b[39m \u001b[43mstep\u001b[49m\u001b[38;5;241;43m.\u001b[39;49m\u001b[43minvoke\u001b[49m\u001b[43m(\u001b[49m\u001b[38;5;28;43minput\u001b[39;49m\u001b[43m,\u001b[49m\u001b[43m \u001b[49m\u001b[43mconfig\u001b[49m\u001b[43m,\u001b[49m\u001b[43m \u001b[49m\u001b[38;5;241;43m*\u001b[39;49m\u001b[38;5;241;43m*\u001b[39;49m\u001b[43mkwargs\u001b[49m\u001b[43m)\u001b[49m\n\u001b[1;32m   2506\u001b[0m \u001b[38;5;28;01melse\u001b[39;00m:\n\u001b[1;32m   2507\u001b[0m     \u001b[38;5;28minput\u001b[39m \u001b[38;5;241m=\u001b[39m step\u001b[38;5;241m.\u001b[39minvoke(\u001b[38;5;28minput\u001b[39m, config)\n",
      "File \u001b[0;32m~/.pyenv/versions/3.11.2/envs/ai_task/lib/python3.11/site-packages/langchain_core/runnables/base.py:3985\u001b[0m, in \u001b[0;36mRunnableLambda.invoke\u001b[0;34m(self, input, config, **kwargs)\u001b[0m\n\u001b[1;32m   3983\u001b[0m \u001b[38;5;250m\u001b[39m\u001b[38;5;124;03m\"\"\"Invoke this runnable synchronously.\"\"\"\u001b[39;00m\n\u001b[1;32m   3984\u001b[0m \u001b[38;5;28;01mif\u001b[39;00m \u001b[38;5;28mhasattr\u001b[39m(\u001b[38;5;28mself\u001b[39m, \u001b[38;5;124m\"\u001b[39m\u001b[38;5;124mfunc\u001b[39m\u001b[38;5;124m\"\u001b[39m):\n\u001b[0;32m-> 3985\u001b[0m     \u001b[38;5;28;01mreturn\u001b[39;00m \u001b[38;5;28;43mself\u001b[39;49m\u001b[38;5;241;43m.\u001b[39;49m\u001b[43m_call_with_config\u001b[49m\u001b[43m(\u001b[49m\n\u001b[1;32m   3986\u001b[0m \u001b[43m        \u001b[49m\u001b[38;5;28;43mself\u001b[39;49m\u001b[38;5;241;43m.\u001b[39;49m\u001b[43m_invoke\u001b[49m\u001b[43m,\u001b[49m\n\u001b[1;32m   3987\u001b[0m \u001b[43m        \u001b[49m\u001b[38;5;28;43minput\u001b[39;49m\u001b[43m,\u001b[49m\n\u001b[1;32m   3988\u001b[0m \u001b[43m        \u001b[49m\u001b[38;5;28;43mself\u001b[39;49m\u001b[38;5;241;43m.\u001b[39;49m\u001b[43m_config\u001b[49m\u001b[43m(\u001b[49m\u001b[43mconfig\u001b[49m\u001b[43m,\u001b[49m\u001b[43m \u001b[49m\u001b[38;5;28;43mself\u001b[39;49m\u001b[38;5;241;43m.\u001b[39;49m\u001b[43mfunc\u001b[49m\u001b[43m)\u001b[49m\u001b[43m,\u001b[49m\n\u001b[1;32m   3989\u001b[0m \u001b[43m        \u001b[49m\u001b[38;5;241;43m*\u001b[39;49m\u001b[38;5;241;43m*\u001b[39;49m\u001b[43mkwargs\u001b[49m\u001b[43m,\u001b[49m\n\u001b[1;32m   3990\u001b[0m \u001b[43m    \u001b[49m\u001b[43m)\u001b[49m\n\u001b[1;32m   3991\u001b[0m \u001b[38;5;28;01melse\u001b[39;00m:\n\u001b[1;32m   3992\u001b[0m     \u001b[38;5;28;01mraise\u001b[39;00m \u001b[38;5;167;01mTypeError\u001b[39;00m(\n\u001b[1;32m   3993\u001b[0m         \u001b[38;5;124m\"\u001b[39m\u001b[38;5;124mCannot invoke a coroutine function synchronously.\u001b[39m\u001b[38;5;124m\"\u001b[39m\n\u001b[1;32m   3994\u001b[0m         \u001b[38;5;124m\"\u001b[39m\u001b[38;5;124mUse `ainvoke` instead.\u001b[39m\u001b[38;5;124m\"\u001b[39m\n\u001b[1;32m   3995\u001b[0m     )\n",
      "File \u001b[0;32m~/.pyenv/versions/3.11.2/envs/ai_task/lib/python3.11/site-packages/langchain_core/runnables/base.py:1599\u001b[0m, in \u001b[0;36mRunnable._call_with_config\u001b[0;34m(self, func, input, config, run_type, **kwargs)\u001b[0m\n\u001b[1;32m   1595\u001b[0m     context \u001b[38;5;241m=\u001b[39m copy_context()\n\u001b[1;32m   1596\u001b[0m     context\u001b[38;5;241m.\u001b[39mrun(_set_config_context, child_config)\n\u001b[1;32m   1597\u001b[0m     output \u001b[38;5;241m=\u001b[39m cast(\n\u001b[1;32m   1598\u001b[0m         Output,\n\u001b[0;32m-> 1599\u001b[0m         \u001b[43mcontext\u001b[49m\u001b[38;5;241;43m.\u001b[39;49m\u001b[43mrun\u001b[49m\u001b[43m(\u001b[49m\n\u001b[1;32m   1600\u001b[0m \u001b[43m            \u001b[49m\u001b[43mcall_func_with_variable_args\u001b[49m\u001b[43m,\u001b[49m\u001b[43m  \u001b[49m\u001b[38;5;66;43;03m# type: ignore[arg-type]\u001b[39;49;00m\n\u001b[1;32m   1601\u001b[0m \u001b[43m            \u001b[49m\u001b[43mfunc\u001b[49m\u001b[43m,\u001b[49m\u001b[43m  \u001b[49m\u001b[38;5;66;43;03m# type: ignore[arg-type]\u001b[39;49;00m\n\u001b[1;32m   1602\u001b[0m \u001b[43m            \u001b[49m\u001b[38;5;28;43minput\u001b[39;49m\u001b[43m,\u001b[49m\u001b[43m  \u001b[49m\u001b[38;5;66;43;03m# type: ignore[arg-type]\u001b[39;49;00m\n\u001b[1;32m   1603\u001b[0m \u001b[43m            \u001b[49m\u001b[43mconfig\u001b[49m\u001b[43m,\u001b[49m\n\u001b[1;32m   1604\u001b[0m \u001b[43m            \u001b[49m\u001b[43mrun_manager\u001b[49m\u001b[43m,\u001b[49m\n\u001b[1;32m   1605\u001b[0m \u001b[43m            \u001b[49m\u001b[38;5;241;43m*\u001b[39;49m\u001b[38;5;241;43m*\u001b[39;49m\u001b[43mkwargs\u001b[49m\u001b[43m,\u001b[49m\n\u001b[1;32m   1606\u001b[0m \u001b[43m        \u001b[49m\u001b[43m)\u001b[49m,\n\u001b[1;32m   1607\u001b[0m     )\n\u001b[1;32m   1608\u001b[0m \u001b[38;5;28;01mexcept\u001b[39;00m \u001b[38;5;167;01mBaseException\u001b[39;00m \u001b[38;5;28;01mas\u001b[39;00m e:\n\u001b[1;32m   1609\u001b[0m     run_manager\u001b[38;5;241m.\u001b[39mon_chain_error(e)\n",
      "File \u001b[0;32m~/.pyenv/versions/3.11.2/envs/ai_task/lib/python3.11/site-packages/langchain_core/runnables/config.py:380\u001b[0m, in \u001b[0;36mcall_func_with_variable_args\u001b[0;34m(func, input, config, run_manager, **kwargs)\u001b[0m\n\u001b[1;32m    378\u001b[0m \u001b[38;5;28;01mif\u001b[39;00m run_manager \u001b[38;5;129;01mis\u001b[39;00m \u001b[38;5;129;01mnot\u001b[39;00m \u001b[38;5;28;01mNone\u001b[39;00m \u001b[38;5;129;01mand\u001b[39;00m accepts_run_manager(func):\n\u001b[1;32m    379\u001b[0m     kwargs[\u001b[38;5;124m\"\u001b[39m\u001b[38;5;124mrun_manager\u001b[39m\u001b[38;5;124m\"\u001b[39m] \u001b[38;5;241m=\u001b[39m run_manager\n\u001b[0;32m--> 380\u001b[0m \u001b[38;5;28;01mreturn\u001b[39;00m \u001b[43mfunc\u001b[49m\u001b[43m(\u001b[49m\u001b[38;5;28;43minput\u001b[39;49m\u001b[43m,\u001b[49m\u001b[43m \u001b[49m\u001b[38;5;241;43m*\u001b[39;49m\u001b[38;5;241;43m*\u001b[39;49m\u001b[43mkwargs\u001b[49m\u001b[43m)\u001b[49m\n",
      "File \u001b[0;32m~/.pyenv/versions/3.11.2/envs/ai_task/lib/python3.11/site-packages/langchain_core/runnables/base.py:3853\u001b[0m, in \u001b[0;36mRunnableLambda._invoke\u001b[0;34m(self, input, run_manager, config, **kwargs)\u001b[0m\n\u001b[1;32m   3851\u001b[0m                 output \u001b[38;5;241m=\u001b[39m chunk\n\u001b[1;32m   3852\u001b[0m \u001b[38;5;28;01melse\u001b[39;00m:\n\u001b[0;32m-> 3853\u001b[0m     output \u001b[38;5;241m=\u001b[39m \u001b[43mcall_func_with_variable_args\u001b[49m\u001b[43m(\u001b[49m\n\u001b[1;32m   3854\u001b[0m \u001b[43m        \u001b[49m\u001b[38;5;28;43mself\u001b[39;49m\u001b[38;5;241;43m.\u001b[39;49m\u001b[43mfunc\u001b[49m\u001b[43m,\u001b[49m\u001b[43m \u001b[49m\u001b[38;5;28;43minput\u001b[39;49m\u001b[43m,\u001b[49m\u001b[43m \u001b[49m\u001b[43mconfig\u001b[49m\u001b[43m,\u001b[49m\u001b[43m \u001b[49m\u001b[43mrun_manager\u001b[49m\u001b[43m,\u001b[49m\u001b[43m \u001b[49m\u001b[38;5;241;43m*\u001b[39;49m\u001b[38;5;241;43m*\u001b[39;49m\u001b[43mkwargs\u001b[49m\n\u001b[1;32m   3855\u001b[0m \u001b[43m    \u001b[49m\u001b[43m)\u001b[49m\n\u001b[1;32m   3856\u001b[0m \u001b[38;5;66;03m# If the output is a runnable, invoke it\u001b[39;00m\n\u001b[1;32m   3857\u001b[0m \u001b[38;5;28;01mif\u001b[39;00m \u001b[38;5;28misinstance\u001b[39m(output, Runnable):\n",
      "File \u001b[0;32m~/.pyenv/versions/3.11.2/envs/ai_task/lib/python3.11/site-packages/langchain_core/runnables/config.py:380\u001b[0m, in \u001b[0;36mcall_func_with_variable_args\u001b[0;34m(func, input, config, run_manager, **kwargs)\u001b[0m\n\u001b[1;32m    378\u001b[0m \u001b[38;5;28;01mif\u001b[39;00m run_manager \u001b[38;5;129;01mis\u001b[39;00m \u001b[38;5;129;01mnot\u001b[39;00m \u001b[38;5;28;01mNone\u001b[39;00m \u001b[38;5;129;01mand\u001b[39;00m accepts_run_manager(func):\n\u001b[1;32m    379\u001b[0m     kwargs[\u001b[38;5;124m\"\u001b[39m\u001b[38;5;124mrun_manager\u001b[39m\u001b[38;5;124m\"\u001b[39m] \u001b[38;5;241m=\u001b[39m run_manager\n\u001b[0;32m--> 380\u001b[0m \u001b[38;5;28;01mreturn\u001b[39;00m \u001b[43mfunc\u001b[49m\u001b[43m(\u001b[49m\u001b[38;5;28;43minput\u001b[39;49m\u001b[43m,\u001b[49m\u001b[43m \u001b[49m\u001b[38;5;241;43m*\u001b[39;49m\u001b[38;5;241;43m*\u001b[39;49m\u001b[43mkwargs\u001b[49m\u001b[43m)\u001b[49m\n",
      "File \u001b[0;32m~/.pyenv/versions/3.11.2/envs/ai_task/lib/python3.11/site-packages/langgraph/prebuilt/chat_agent_executor.py:402\u001b[0m, in \u001b[0;36mcreate_react_agent.<locals>.call_model\u001b[0;34m(state, config)\u001b[0m\n\u001b[1;32m    397\u001b[0m \u001b[38;5;28;01mdef\u001b[39;00m \u001b[38;5;21mcall_model\u001b[39m(\n\u001b[1;32m    398\u001b[0m     state: AgentState,\n\u001b[1;32m    399\u001b[0m     config: RunnableConfig,\n\u001b[1;32m    400\u001b[0m ):\n\u001b[1;32m    401\u001b[0m     messages \u001b[38;5;241m=\u001b[39m state[\u001b[38;5;124m\"\u001b[39m\u001b[38;5;124mmessages\u001b[39m\u001b[38;5;124m\"\u001b[39m]\n\u001b[0;32m--> 402\u001b[0m     response \u001b[38;5;241m=\u001b[39m \u001b[43mmodel_runnable\u001b[49m\u001b[38;5;241;43m.\u001b[39;49m\u001b[43minvoke\u001b[49m\u001b[43m(\u001b[49m\u001b[43mmessages\u001b[49m\u001b[43m,\u001b[49m\u001b[43m \u001b[49m\u001b[43mconfig\u001b[49m\u001b[43m)\u001b[49m\n\u001b[1;32m    403\u001b[0m     \u001b[38;5;28;01mif\u001b[39;00m state[\u001b[38;5;124m\"\u001b[39m\u001b[38;5;124mis_last_step\u001b[39m\u001b[38;5;124m\"\u001b[39m] \u001b[38;5;129;01mand\u001b[39;00m response\u001b[38;5;241m.\u001b[39mtool_calls:\n\u001b[1;32m    404\u001b[0m         \u001b[38;5;28;01mreturn\u001b[39;00m {\n\u001b[1;32m    405\u001b[0m             \u001b[38;5;124m\"\u001b[39m\u001b[38;5;124mmessages\u001b[39m\u001b[38;5;124m\"\u001b[39m: [\n\u001b[1;32m    406\u001b[0m                 AIMessage(\n\u001b[0;32m   (...)\u001b[0m\n\u001b[1;32m    410\u001b[0m             ]\n\u001b[1;32m    411\u001b[0m         }\n",
      "File \u001b[0;32m~/.pyenv/versions/3.11.2/envs/ai_task/lib/python3.11/site-packages/langchain_core/runnables/base.py:2505\u001b[0m, in \u001b[0;36mRunnableSequence.invoke\u001b[0;34m(self, input, config, **kwargs)\u001b[0m\n\u001b[1;32m   2501\u001b[0m config \u001b[38;5;241m=\u001b[39m patch_config(\n\u001b[1;32m   2502\u001b[0m     config, callbacks\u001b[38;5;241m=\u001b[39mrun_manager\u001b[38;5;241m.\u001b[39mget_child(\u001b[38;5;124mf\u001b[39m\u001b[38;5;124m\"\u001b[39m\u001b[38;5;124mseq:step:\u001b[39m\u001b[38;5;132;01m{\u001b[39;00mi\u001b[38;5;241m+\u001b[39m\u001b[38;5;241m1\u001b[39m\u001b[38;5;132;01m}\u001b[39;00m\u001b[38;5;124m\"\u001b[39m)\n\u001b[1;32m   2503\u001b[0m )\n\u001b[1;32m   2504\u001b[0m \u001b[38;5;28;01mif\u001b[39;00m i \u001b[38;5;241m==\u001b[39m \u001b[38;5;241m0\u001b[39m:\n\u001b[0;32m-> 2505\u001b[0m     \u001b[38;5;28minput\u001b[39m \u001b[38;5;241m=\u001b[39m \u001b[43mstep\u001b[49m\u001b[38;5;241;43m.\u001b[39;49m\u001b[43minvoke\u001b[49m\u001b[43m(\u001b[49m\u001b[38;5;28;43minput\u001b[39;49m\u001b[43m,\u001b[49m\u001b[43m \u001b[49m\u001b[43mconfig\u001b[49m\u001b[43m,\u001b[49m\u001b[43m \u001b[49m\u001b[38;5;241;43m*\u001b[39;49m\u001b[38;5;241;43m*\u001b[39;49m\u001b[43mkwargs\u001b[49m\u001b[43m)\u001b[49m\n\u001b[1;32m   2506\u001b[0m \u001b[38;5;28;01melse\u001b[39;00m:\n\u001b[1;32m   2507\u001b[0m     \u001b[38;5;28minput\u001b[39m \u001b[38;5;241m=\u001b[39m step\u001b[38;5;241m.\u001b[39minvoke(\u001b[38;5;28minput\u001b[39m, config)\n",
      "File \u001b[0;32m~/.pyenv/versions/3.11.2/envs/ai_task/lib/python3.11/site-packages/langchain_core/runnables/base.py:3985\u001b[0m, in \u001b[0;36mRunnableLambda.invoke\u001b[0;34m(self, input, config, **kwargs)\u001b[0m\n\u001b[1;32m   3983\u001b[0m \u001b[38;5;250m\u001b[39m\u001b[38;5;124;03m\"\"\"Invoke this runnable synchronously.\"\"\"\u001b[39;00m\n\u001b[1;32m   3984\u001b[0m \u001b[38;5;28;01mif\u001b[39;00m \u001b[38;5;28mhasattr\u001b[39m(\u001b[38;5;28mself\u001b[39m, \u001b[38;5;124m\"\u001b[39m\u001b[38;5;124mfunc\u001b[39m\u001b[38;5;124m\"\u001b[39m):\n\u001b[0;32m-> 3985\u001b[0m     \u001b[38;5;28;01mreturn\u001b[39;00m \u001b[38;5;28;43mself\u001b[39;49m\u001b[38;5;241;43m.\u001b[39;49m\u001b[43m_call_with_config\u001b[49m\u001b[43m(\u001b[49m\n\u001b[1;32m   3986\u001b[0m \u001b[43m        \u001b[49m\u001b[38;5;28;43mself\u001b[39;49m\u001b[38;5;241;43m.\u001b[39;49m\u001b[43m_invoke\u001b[49m\u001b[43m,\u001b[49m\n\u001b[1;32m   3987\u001b[0m \u001b[43m        \u001b[49m\u001b[38;5;28;43minput\u001b[39;49m\u001b[43m,\u001b[49m\n\u001b[1;32m   3988\u001b[0m \u001b[43m        \u001b[49m\u001b[38;5;28;43mself\u001b[39;49m\u001b[38;5;241;43m.\u001b[39;49m\u001b[43m_config\u001b[49m\u001b[43m(\u001b[49m\u001b[43mconfig\u001b[49m\u001b[43m,\u001b[49m\u001b[43m \u001b[49m\u001b[38;5;28;43mself\u001b[39;49m\u001b[38;5;241;43m.\u001b[39;49m\u001b[43mfunc\u001b[49m\u001b[43m)\u001b[49m\u001b[43m,\u001b[49m\n\u001b[1;32m   3989\u001b[0m \u001b[43m        \u001b[49m\u001b[38;5;241;43m*\u001b[39;49m\u001b[38;5;241;43m*\u001b[39;49m\u001b[43mkwargs\u001b[49m\u001b[43m,\u001b[49m\n\u001b[1;32m   3990\u001b[0m \u001b[43m    \u001b[49m\u001b[43m)\u001b[49m\n\u001b[1;32m   3991\u001b[0m \u001b[38;5;28;01melse\u001b[39;00m:\n\u001b[1;32m   3992\u001b[0m     \u001b[38;5;28;01mraise\u001b[39;00m \u001b[38;5;167;01mTypeError\u001b[39;00m(\n\u001b[1;32m   3993\u001b[0m         \u001b[38;5;124m\"\u001b[39m\u001b[38;5;124mCannot invoke a coroutine function synchronously.\u001b[39m\u001b[38;5;124m\"\u001b[39m\n\u001b[1;32m   3994\u001b[0m         \u001b[38;5;124m\"\u001b[39m\u001b[38;5;124mUse `ainvoke` instead.\u001b[39m\u001b[38;5;124m\"\u001b[39m\n\u001b[1;32m   3995\u001b[0m     )\n",
      "File \u001b[0;32m~/.pyenv/versions/3.11.2/envs/ai_task/lib/python3.11/site-packages/langchain_core/runnables/base.py:1599\u001b[0m, in \u001b[0;36mRunnable._call_with_config\u001b[0;34m(self, func, input, config, run_type, **kwargs)\u001b[0m\n\u001b[1;32m   1595\u001b[0m     context \u001b[38;5;241m=\u001b[39m copy_context()\n\u001b[1;32m   1596\u001b[0m     context\u001b[38;5;241m.\u001b[39mrun(_set_config_context, child_config)\n\u001b[1;32m   1597\u001b[0m     output \u001b[38;5;241m=\u001b[39m cast(\n\u001b[1;32m   1598\u001b[0m         Output,\n\u001b[0;32m-> 1599\u001b[0m         \u001b[43mcontext\u001b[49m\u001b[38;5;241;43m.\u001b[39;49m\u001b[43mrun\u001b[49m\u001b[43m(\u001b[49m\n\u001b[1;32m   1600\u001b[0m \u001b[43m            \u001b[49m\u001b[43mcall_func_with_variable_args\u001b[49m\u001b[43m,\u001b[49m\u001b[43m  \u001b[49m\u001b[38;5;66;43;03m# type: ignore[arg-type]\u001b[39;49;00m\n\u001b[1;32m   1601\u001b[0m \u001b[43m            \u001b[49m\u001b[43mfunc\u001b[49m\u001b[43m,\u001b[49m\u001b[43m  \u001b[49m\u001b[38;5;66;43;03m# type: ignore[arg-type]\u001b[39;49;00m\n\u001b[1;32m   1602\u001b[0m \u001b[43m            \u001b[49m\u001b[38;5;28;43minput\u001b[39;49m\u001b[43m,\u001b[49m\u001b[43m  \u001b[49m\u001b[38;5;66;43;03m# type: ignore[arg-type]\u001b[39;49;00m\n\u001b[1;32m   1603\u001b[0m \u001b[43m            \u001b[49m\u001b[43mconfig\u001b[49m\u001b[43m,\u001b[49m\n\u001b[1;32m   1604\u001b[0m \u001b[43m            \u001b[49m\u001b[43mrun_manager\u001b[49m\u001b[43m,\u001b[49m\n\u001b[1;32m   1605\u001b[0m \u001b[43m            \u001b[49m\u001b[38;5;241;43m*\u001b[39;49m\u001b[38;5;241;43m*\u001b[39;49m\u001b[43mkwargs\u001b[49m\u001b[43m,\u001b[49m\n\u001b[1;32m   1606\u001b[0m \u001b[43m        \u001b[49m\u001b[43m)\u001b[49m,\n\u001b[1;32m   1607\u001b[0m     )\n\u001b[1;32m   1608\u001b[0m \u001b[38;5;28;01mexcept\u001b[39;00m \u001b[38;5;167;01mBaseException\u001b[39;00m \u001b[38;5;28;01mas\u001b[39;00m e:\n\u001b[1;32m   1609\u001b[0m     run_manager\u001b[38;5;241m.\u001b[39mon_chain_error(e)\n",
      "File \u001b[0;32m~/.pyenv/versions/3.11.2/envs/ai_task/lib/python3.11/site-packages/langchain_core/runnables/config.py:380\u001b[0m, in \u001b[0;36mcall_func_with_variable_args\u001b[0;34m(func, input, config, run_manager, **kwargs)\u001b[0m\n\u001b[1;32m    378\u001b[0m \u001b[38;5;28;01mif\u001b[39;00m run_manager \u001b[38;5;129;01mis\u001b[39;00m \u001b[38;5;129;01mnot\u001b[39;00m \u001b[38;5;28;01mNone\u001b[39;00m \u001b[38;5;129;01mand\u001b[39;00m accepts_run_manager(func):\n\u001b[1;32m    379\u001b[0m     kwargs[\u001b[38;5;124m\"\u001b[39m\u001b[38;5;124mrun_manager\u001b[39m\u001b[38;5;124m\"\u001b[39m] \u001b[38;5;241m=\u001b[39m run_manager\n\u001b[0;32m--> 380\u001b[0m \u001b[38;5;28;01mreturn\u001b[39;00m \u001b[43mfunc\u001b[49m\u001b[43m(\u001b[49m\u001b[38;5;28;43minput\u001b[39;49m\u001b[43m,\u001b[49m\u001b[43m \u001b[49m\u001b[38;5;241;43m*\u001b[39;49m\u001b[38;5;241;43m*\u001b[39;49m\u001b[43mkwargs\u001b[49m\u001b[43m)\u001b[49m\n",
      "File \u001b[0;32m~/.pyenv/versions/3.11.2/envs/ai_task/lib/python3.11/site-packages/langchain_core/runnables/base.py:3853\u001b[0m, in \u001b[0;36mRunnableLambda._invoke\u001b[0;34m(self, input, run_manager, config, **kwargs)\u001b[0m\n\u001b[1;32m   3851\u001b[0m                 output \u001b[38;5;241m=\u001b[39m chunk\n\u001b[1;32m   3852\u001b[0m \u001b[38;5;28;01melse\u001b[39;00m:\n\u001b[0;32m-> 3853\u001b[0m     output \u001b[38;5;241m=\u001b[39m \u001b[43mcall_func_with_variable_args\u001b[49m\u001b[43m(\u001b[49m\n\u001b[1;32m   3854\u001b[0m \u001b[43m        \u001b[49m\u001b[38;5;28;43mself\u001b[39;49m\u001b[38;5;241;43m.\u001b[39;49m\u001b[43mfunc\u001b[49m\u001b[43m,\u001b[49m\u001b[43m \u001b[49m\u001b[38;5;28;43minput\u001b[39;49m\u001b[43m,\u001b[49m\u001b[43m \u001b[49m\u001b[43mconfig\u001b[49m\u001b[43m,\u001b[49m\u001b[43m \u001b[49m\u001b[43mrun_manager\u001b[49m\u001b[43m,\u001b[49m\u001b[43m \u001b[49m\u001b[38;5;241;43m*\u001b[39;49m\u001b[38;5;241;43m*\u001b[39;49m\u001b[43mkwargs\u001b[49m\n\u001b[1;32m   3855\u001b[0m \u001b[43m    \u001b[49m\u001b[43m)\u001b[49m\n\u001b[1;32m   3856\u001b[0m \u001b[38;5;66;03m# If the output is a runnable, invoke it\u001b[39;00m\n\u001b[1;32m   3857\u001b[0m \u001b[38;5;28;01mif\u001b[39;00m \u001b[38;5;28misinstance\u001b[39m(output, Runnable):\n",
      "File \u001b[0;32m~/.pyenv/versions/3.11.2/envs/ai_task/lib/python3.11/site-packages/langchain_core/runnables/config.py:380\u001b[0m, in \u001b[0;36mcall_func_with_variable_args\u001b[0;34m(func, input, config, run_manager, **kwargs)\u001b[0m\n\u001b[1;32m    378\u001b[0m \u001b[38;5;28;01mif\u001b[39;00m run_manager \u001b[38;5;129;01mis\u001b[39;00m \u001b[38;5;129;01mnot\u001b[39;00m \u001b[38;5;28;01mNone\u001b[39;00m \u001b[38;5;129;01mand\u001b[39;00m accepts_run_manager(func):\n\u001b[1;32m    379\u001b[0m     kwargs[\u001b[38;5;124m\"\u001b[39m\u001b[38;5;124mrun_manager\u001b[39m\u001b[38;5;124m\"\u001b[39m] \u001b[38;5;241m=\u001b[39m run_manager\n\u001b[0;32m--> 380\u001b[0m \u001b[38;5;28;01mreturn\u001b[39;00m \u001b[43mfunc\u001b[49m\u001b[43m(\u001b[49m\u001b[38;5;28;43minput\u001b[39;49m\u001b[43m,\u001b[49m\u001b[43m \u001b[49m\u001b[38;5;241;43m*\u001b[39;49m\u001b[38;5;241;43m*\u001b[39;49m\u001b[43mkwargs\u001b[49m\u001b[43m)\u001b[49m\n",
      "Cell \u001b[0;32mIn[122], line 37\u001b[0m, in \u001b[0;36m_modfify_message\u001b[0;34m(query)\u001b[0m\n\u001b[1;32m      1\u001b[0m \u001b[38;5;28;01mdef\u001b[39;00m \u001b[38;5;21m_modfify_message\u001b[39m(query: \u001b[38;5;28mstr\u001b[39m):\n\u001b[1;32m      3\u001b[0m     SQL_PREFIX \u001b[38;5;241m=\u001b[39m \u001b[38;5;124m\"\"\"\u001b[39m\u001b[38;5;124mYou are an agent designed to interact with a SQL database.\u001b[39m\n\u001b[1;32m      4\u001b[0m \u001b[38;5;124m    Given an input question, create a syntactically correct SQLite query to run, then look at the results of the query and return the answer.\u001b[39m\n\u001b[1;32m      5\u001b[0m \u001b[38;5;124m    Unless the user specifies a specific number of examples they wish to obtain, always limit your query to at most 5 results.\u001b[39m\n\u001b[0;32m   (...)\u001b[0m\n\u001b[1;32m     34\u001b[0m \u001b[38;5;124m    Do NOT skip this step.\u001b[39m\n\u001b[1;32m     35\u001b[0m \u001b[38;5;124m    Then you should query the schema of the most relevant tables.\u001b[39m\u001b[38;5;124m\"\"\"\u001b[39m\n\u001b[0;32m---> 37\u001b[0m     examples \u001b[38;5;241m=\u001b[39m \u001b[43mexample_selector\u001b[49m\u001b[38;5;241;43m.\u001b[39;49m\u001b[43mselect_examples\u001b[49m\u001b[43m(\u001b[49m\u001b[43m{\u001b[49m\u001b[38;5;124;43m\"\u001b[39;49m\u001b[38;5;124;43minput\u001b[39;49m\u001b[38;5;124;43m\"\u001b[39;49m\u001b[43m:\u001b[49m\u001b[43m \u001b[49m\u001b[43mquery\u001b[49m\u001b[43m}\u001b[49m\u001b[43m)\u001b[49m\n\u001b[1;32m     38\u001b[0m     x \u001b[38;5;241m=\u001b[39m [(\u001b[38;5;124m'\u001b[39m\u001b[38;5;124mhuman\u001b[39m\u001b[38;5;124m'\u001b[39m, \u001b[38;5;124mf\u001b[39m\u001b[38;5;124m\"\u001b[39m\u001b[38;5;124mUse the following examples to guide yourself: \u001b[39m\u001b[38;5;130;01m\\n\u001b[39;00m\u001b[38;5;124m \u001b[39m\u001b[38;5;132;01m{\u001b[39;00mexamples\u001b[38;5;132;01m}\u001b[39;00m\u001b[38;5;124m\"\u001b[39m)]\n\u001b[1;32m     39\u001b[0m     prompt \u001b[38;5;241m=\u001b[39m ChatPromptTemplate\u001b[38;5;241m.\u001b[39mfrom_messages(\n\u001b[1;32m     40\u001b[0m         [(\u001b[38;5;124m\"\u001b[39m\u001b[38;5;124msystem\u001b[39m\u001b[38;5;124m\"\u001b[39m, SQL_PREFIX), (\u001b[38;5;124m\"\u001b[39m\u001b[38;5;124mplaceholder\u001b[39m\u001b[38;5;124m\"\u001b[39m, \u001b[38;5;124m\"\u001b[39m\u001b[38;5;132;01m{examples}\u001b[39;00m\u001b[38;5;124m\"\u001b[39m)]\n\u001b[1;32m     41\u001b[0m     )\n",
      "File \u001b[0;32m~/.pyenv/versions/3.11.2/envs/ai_task/lib/python3.11/site-packages/langchain_core/example_selectors/semantic_similarity.py:83\u001b[0m, in \u001b[0;36mSemanticSimilarityExampleSelector.select_examples\u001b[0;34m(self, input_variables)\u001b[0m\n\u001b[1;32m     80\u001b[0m \u001b[38;5;66;03m# Get the docs with the highest similarity.\u001b[39;00m\n\u001b[1;32m     81\u001b[0m vectorstore_kwargs \u001b[38;5;241m=\u001b[39m \u001b[38;5;28mself\u001b[39m\u001b[38;5;241m.\u001b[39mvectorstore_kwargs \u001b[38;5;129;01mor\u001b[39;00m {}\n\u001b[1;32m     82\u001b[0m example_docs \u001b[38;5;241m=\u001b[39m \u001b[38;5;28mself\u001b[39m\u001b[38;5;241m.\u001b[39mvectorstore\u001b[38;5;241m.\u001b[39msimilarity_search(\n\u001b[0;32m---> 83\u001b[0m     \u001b[38;5;28;43mself\u001b[39;49m\u001b[38;5;241;43m.\u001b[39;49m\u001b[43m_example_to_text\u001b[49m\u001b[43m(\u001b[49m\u001b[43minput_variables\u001b[49m\u001b[43m,\u001b[49m\u001b[43m \u001b[49m\u001b[38;5;28;43mself\u001b[39;49m\u001b[38;5;241;43m.\u001b[39;49m\u001b[43minput_keys\u001b[49m\u001b[43m)\u001b[49m,\n\u001b[1;32m     84\u001b[0m     k\u001b[38;5;241m=\u001b[39m\u001b[38;5;28mself\u001b[39m\u001b[38;5;241m.\u001b[39mk,\n\u001b[1;32m     85\u001b[0m     \u001b[38;5;241m*\u001b[39m\u001b[38;5;241m*\u001b[39mvectorstore_kwargs,\n\u001b[1;32m     86\u001b[0m )\n\u001b[1;32m     87\u001b[0m \u001b[38;5;28;01mreturn\u001b[39;00m \u001b[38;5;28mself\u001b[39m\u001b[38;5;241m.\u001b[39m_documents_to_examples(example_docs)\n",
      "File \u001b[0;32m~/.pyenv/versions/3.11.2/envs/ai_task/lib/python3.11/site-packages/langchain_core/example_selectors/semantic_similarity.py:47\u001b[0m, in \u001b[0;36m_VectorStoreExampleSelector._example_to_text\u001b[0;34m(example, input_keys)\u001b[0m\n\u001b[1;32m     42\u001b[0m \u001b[38;5;129m@staticmethod\u001b[39m\n\u001b[1;32m     43\u001b[0m \u001b[38;5;28;01mdef\u001b[39;00m \u001b[38;5;21m_example_to_text\u001b[39m(\n\u001b[1;32m     44\u001b[0m     example: Dict[\u001b[38;5;28mstr\u001b[39m, \u001b[38;5;28mstr\u001b[39m], input_keys: Optional[List[\u001b[38;5;28mstr\u001b[39m]]\n\u001b[1;32m     45\u001b[0m ) \u001b[38;5;241m-\u001b[39m\u001b[38;5;241m>\u001b[39m \u001b[38;5;28mstr\u001b[39m:\n\u001b[1;32m     46\u001b[0m     \u001b[38;5;28;01mif\u001b[39;00m input_keys:\n\u001b[0;32m---> 47\u001b[0m         \u001b[38;5;28;01mreturn\u001b[39;00m \u001b[38;5;124m\"\u001b[39m\u001b[38;5;124m \u001b[39m\u001b[38;5;124m\"\u001b[39m\u001b[38;5;241m.\u001b[39mjoin(sorted_values({key: example[key] \u001b[38;5;28;01mfor\u001b[39;00m key \u001b[38;5;129;01min\u001b[39;00m input_keys}))\n\u001b[1;32m     48\u001b[0m     \u001b[38;5;28;01melse\u001b[39;00m:\n\u001b[1;32m     49\u001b[0m         \u001b[38;5;28;01mreturn\u001b[39;00m \u001b[38;5;124m\"\u001b[39m\u001b[38;5;124m \u001b[39m\u001b[38;5;124m\"\u001b[39m\u001b[38;5;241m.\u001b[39mjoin(sorted_values(example))\n",
      "\u001b[0;31mTypeError\u001b[0m: sequence item 0: expected str instance, list found"
     ]
    }
   ],
   "source": [
    "question = \"Tell me about billstroop?\"\n",
    "config = {\n",
    "    \"configurable\": {\n",
    "        \"thread_id\": 1434,\n",
    "    }\n",
    "}\n",
    "res = ask(question, config)\n",
    "print(res[\"messages\"][-1])"
   ]
  },
  {
   "cell_type": "code",
   "execution_count": 36,
   "metadata": {},
   "outputs": [],
   "source": [
    "questions = [\"Tell me more about Stephen Bryars\", \"How many advisors are there\", \"What palces did he work at\", \"Do they have any disclosure? If so how recent and what was the dollar amount?\", \"How do they work for?\"]\n",
    "responses = []\n",
    "config = {\n",
    "    \"configurable\": {\n",
    "        \"thread_id\": 1234,\n",
    "    }\n",
    "}\n",
    "for question in questions:\n",
    "    responses.append(ask(question, config))"
   ]
  }
 ],
 "metadata": {
  "kernelspec": {
   "display_name": "test_env",
   "language": "python",
   "name": "python3"
  },
  "language_info": {
   "codemirror_mode": {
    "name": "ipython",
    "version": 3
   },
   "file_extension": ".py",
   "mimetype": "text/x-python",
   "name": "python",
   "nbconvert_exporter": "python",
   "pygments_lexer": "ipython3",
   "version": "3.11.2"
  }
 },
 "nbformat": 4,
 "nbformat_minor": 2
}
